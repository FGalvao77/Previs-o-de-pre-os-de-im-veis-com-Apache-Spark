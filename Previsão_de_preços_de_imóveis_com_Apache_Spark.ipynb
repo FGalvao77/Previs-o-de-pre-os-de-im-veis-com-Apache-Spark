{
  "nbformat": 4,
  "nbformat_minor": 0,
  "metadata": {
    "colab": {
      "name": "Previsão de preços de imóveis com Apache Spark.ipynb",
      "provenance": [],
      "collapsed_sections": [],
      "authorship_tag": "ABX9TyOTrMQ2LGDIy1ZYU3cMgtt9",
      "include_colab_link": true
    },
    "kernelspec": {
      "name": "python3",
      "display_name": "Python 3"
    },
    "language_info": {
      "name": "python"
    }
  },
  "cells": [
    {
      "cell_type": "markdown",
      "metadata": {
        "id": "view-in-github",
        "colab_type": "text"
      },
      "source": [
        "<a href=\"https://colab.research.google.com/github/FGalvao77/Previsao-de-precos-de-imoveis-com-Apache-Spark/blob/main/Previs%C3%A3o_de_pre%C3%A7os_de_im%C3%B3veis_com_Apache_Spark.ipynb\" target=\"_parent\"><img src=\"https://colab.research.google.com/assets/colab-badge.svg\" alt=\"Open In Colab\"/></a>"
      ]
    },
    {
      "cell_type": "markdown",
      "metadata": {
        "id": "41YamkdJv6ei"
      },
      "source": [
        "# **Previsão de preços de imóveis com Apache Spark**\n",
        "\n",
        "---\n",
        "\n"
      ]
    },
    {
      "cell_type": "markdown",
      "metadata": {
        "id": "1glzgI11wGhY"
      },
      "source": [
        "Utilizando o ambiente do `Google Colab`, vamos explorar a **API** do spark para _Python_, o `Pyspark`, e da biblioteca de _Machine Learning_, `MLlib`, para realizar a análise exploratória de um conjunto de dados e fazer uma _Regressão Linear_.\n",
        "\n",
        "O desafio é prever preços de imóveis, para esse problema utilizaremos o dataset [California Housing Prices](https://raw.githubusercontent.com/FGalvao77/datasets/main/cal_housing.data), é claro, que esse conjunto de dados é \"pequeno\" para o contexto de utilização do Spark, que tem como intuito de fornecer as ferramentas necessárias para análise de conjunto de dados muito maiores, o chamado `Big Data`. Mas o principal objetivo é explorar o Spark de forma didática e construir um modelo de aprendizado de máquina."
      ]
    },
    {
      "cell_type": "markdown",
      "metadata": {
        "id": "17j2fc6_z6Hd"
      },
      "source": [
        "### **1. Conhecendo o conjunto de dados**\n",
        "\n",
        "O conjunto de dados `California Housing` apareceu em um artigo de 1997 intitulado _Sparse Spatial Autoregressions_, escrito por Pace, R. Kelley e Ronald Barry e publicado no jornal **Statistics and Probability Letters**. Os pesquisadores construíram esse conjunto de dados usando os dados do censo de 1990 da Califórnia.\n",
        "\n",
        "Os dados contêm uma linha por grupo de blocos do censo. Um grupo de quarteirões é a menor unidade geográfica para a qual o _U.S. Census Bureau_ publica dados de amostra (um grupo de quarteirões normalmente tem uma população de 600 a 3.000 pessoas). Nesta amostra, um grupo de quarteirões em média inclui 1425,5 indivíduos que vivem em uma área geograficamente compacta.\n",
        "\n",
        "Esses dados espaciais contêm 20.640 observações sobre os preços da habitação com 9 variáveis ​​econômicas:"
      ]
    },
    {
      "cell_type": "markdown",
      "metadata": {
        "id": "wpVEJhny1Qts"
      },
      "source": [
        "- `longitude`: medida de quão longe a oeste está uma casa; um valor mais alto está mais a oeste;\n",
        "- `latitude`: medida de quão distante ao norte está uma casa; um valor mais alto está mais ao norte;\n",
        "- `housingMedianAge`: idade média de uma casa dentro de um quarteirão; um número menor é um prédio mais novo;\n",
        "- `totalRooms`: número total de quartos em um bloco;\n",
        "- `totalBedrooms`: número total de quartos nas casas por grupo de blocos;\n",
        "- `population`: número total de pessoas que residem em um bloco;\n",
        "- `households`: número total de domicílios, um grupo de pessoas que residem em uma unidade domiciliar, para um bloco;\n",
        "- `medianIncome`: renda média para famílias dentro de um bloco de casas (medida em dezenas de milhares de dólares americanos) e,\n",
        "- `medianHouseValue`: Valor médio da casa para famílias dentro de um quarteirão (medido em dólares americanos).\n",
        "\n",
        "\n",
        "_**Obs.:**_ Encontramos outras bases de dados que possuem também o atributo `oceanProximity` que se refere o quanto a casa está próximo do mar.\n",
        "\n",
        "Porém nesse estudo, esse atributo não faz parte da base de dados utilizada para esse desafio."
      ]
    },
    {
      "cell_type": "markdown",
      "metadata": {
        "id": "80KzX7YR6bDg"
      },
      "source": [
        "O atributo `medianHouseValue` (mediana do valor da casa) é a variável dependente e será atribuído o papel da variável alvo (target) em nosso modelo de Machine Learning."
      ]
    },
    {
      "cell_type": "markdown",
      "metadata": {
        "id": "3bKD9eFT7up4"
      },
      "source": [
        "### **2. Instalando o `PySpark`, suas dependências e configurando as variáveis de ambiente**"
      ]
    },
    {
      "cell_type": "code",
      "metadata": {
        "colab": {
          "base_uri": "https://localhost:8080/"
        },
        "id": "Hxv7s4Tnv3h_",
        "outputId": "040201b2-26e1-4b9c-fc55-7f19276cc457"
      },
      "source": [
        "# instalando o pyspark\n",
        "!pip install pyspark"
      ],
      "execution_count": 1,
      "outputs": [
        {
          "output_type": "stream",
          "name": "stdout",
          "text": [
            "Collecting pyspark\n",
            "  Downloading pyspark-3.1.2.tar.gz (212.4 MB)\n",
            "\u001b[K     |████████████████████████████████| 212.4 MB 64 kB/s \n",
            "\u001b[?25hCollecting py4j==0.10.9\n",
            "  Downloading py4j-0.10.9-py2.py3-none-any.whl (198 kB)\n",
            "\u001b[K     |████████████████████████████████| 198 kB 55.2 MB/s \n",
            "\u001b[?25hBuilding wheels for collected packages: pyspark\n",
            "  Building wheel for pyspark (setup.py) ... \u001b[?25l\u001b[?25hdone\n",
            "  Created wheel for pyspark: filename=pyspark-3.1.2-py2.py3-none-any.whl size=212880768 sha256=d4beb2f332fe1ba6cba9845333528da5375f598267cb113ce8a942c4d3fda898\n",
            "  Stored in directory: /root/.cache/pip/wheels/a5/0a/c1/9561f6fecb759579a7d863dcd846daaa95f598744e71b02c77\n",
            "Successfully built pyspark\n",
            "Installing collected packages: py4j, pyspark\n",
            "Successfully installed py4j-0.10.9 pyspark-3.1.2\n"
          ]
        }
      ]
    },
    {
      "cell_type": "code",
      "metadata": {
        "id": "hBm1XRRA7x8x"
      },
      "source": [
        "# instalando as dependências\n",
        "!apt-get install openjdk-8-jdk-headless -qq > /dev/null\n",
        "!wget -q https://archive.apache.org/dist/spark/spark-3.1.2/spark-3.1.2-bin-hadoop2.7.tgz\n",
        "!tar xf spark-3.1.2-bin-hadoop2.7.tgz\n",
        "!pip install -q findspark\n",
        "!pip install -q pyspark"
      ],
      "execution_count": 2,
      "outputs": []
    },
    {
      "cell_type": "code",
      "metadata": {
        "id": "39XTvuXv75aV"
      },
      "source": [
        "# configurando as variáveis de ambiente\n",
        "import os\n",
        "os.environ['JAVA_HOME'] = '/usr/lib/jvm/java-8-openjdk-amd64'\n",
        "os.environ['SPARK_HOME'] = '/content/spark-3.1.2-bin-hadoop2.7'\n",
        "\n",
        "# tornando o pyspark \"importável\"\n",
        "import findspark\n",
        "# findspark.init()\n",
        "findspark.init('spark-3.1.2-bin-hadoop2.7')"
      ],
      "execution_count": 3,
      "outputs": []
    },
    {
      "cell_type": "markdown",
      "metadata": {
        "id": "pvh75736E2oQ"
      },
      "source": [
        "### **3. Instalando as bibliotecas e funções necessárias e, configurando o parâmetros para visualização gráfica**"
      ]
    },
    {
      "cell_type": "code",
      "metadata": {
        "id": "zHrS2gVh75Ut"
      },
      "source": [
        "# importando as bibliotecas e funções\n",
        "# import os\n",
        "import pandas as pd\n",
        "import numpy as np\n",
        "\n",
        "from pyspark import SparkConf, SparkContext\n",
        "from pyspark.sql import SparkSession, SQLContext\n",
        "\n",
        "from pyspark.sql.types import *\n",
        "import pyspark.sql.functions as F\n",
        "from pyspark.sql.functions import udf, col\n",
        "\n",
        "from pyspark.ml.regression import LinearRegression\n",
        "from pyspark.mllib.evaluation import RegressionMetrics\n",
        "\n",
        "from pyspark.ml.tuning import ParamGridBuilder, CrossValidator, CrossValidatorModel\n",
        "from pyspark.ml.feature import VectorAssembler, StandardScaler\n",
        "from pyspark.ml.evaluation import RegressionEvaluator"
      ],
      "execution_count": 4,
      "outputs": []
    },
    {
      "cell_type": "code",
      "metadata": {
        "id": "i9BQW8p975Rq"
      },
      "source": [
        "# configurando os parâmetros para visualização gráfica\n",
        "import seaborn as sns\n",
        "import matplotlib.pyplot as plt\n",
        "\n",
        "from IPython.core.interactiveshell import InteractiveShell\n",
        "InteractiveShell.ast_node_interactivity = 'all'\n",
        "\n",
        "pd.set_option('display.max_columns', 200)\n",
        "pd.set_option('display.max_colwidth', 400)\n",
        "\n",
        "from matplotlib import rcParams\n",
        "sns.set(context='notebook', style='whitegrid', rc={'figure.figsize': (18,4)})\n",
        "rcParams['figure.figsize'] = 18,4\n",
        "\n",
        "%matplotlib inline\n",
        "%config InlineBackend.figure_format = 'retina'"
      ],
      "execution_count": 5,
      "outputs": []
    },
    {
      "cell_type": "code",
      "metadata": {
        "id": "JQie6BrJMlDJ"
      },
      "source": [
        "# configurando a semente aleatória para reprodutibilidade do notebook\n",
        "rnd_seed = 23\n",
        "np.random.seed = rnd_seed\n",
        "np.random.set_state = rnd_seed"
      ],
      "execution_count": 6,
      "outputs": []
    },
    {
      "cell_type": "markdown",
      "metadata": {
        "id": "N9p59J40-_oy"
      },
      "source": [
        "### **4. Iniciando uma SparkSession**\n",
        "\n",
        "De início é necessário criar uma sessão Spark, onde é possível configurar os nós do cluster, bem como a memória alocada para cada um deles.\n",
        "\n",
        "Para essa nossa atividade usaremos uma confuguração mínima da sessão."
      ]
    },
    {
      "cell_type": "code",
      "metadata": {
        "colab": {
          "base_uri": "https://localhost:8080/",
          "height": 216
        },
        "id": "w2ZE63OK75XG",
        "outputId": "0260adc7-6ef8-4838-d1e4-4209a3c5ba6a"
      },
      "source": [
        "# importando a biblioteca para iniciar uma sessão spark\n",
        "from pyspark.sql import SparkSession\n",
        "\n",
        "# iniciando uma sessão spark - usamos quando se trabalha com dataframes no spark\n",
        "spark = SparkSession.builder\\\n",
        "        .master('local[*]')\\\n",
        "        .appName('Linear Regression Model with PySpark/MLlib - dataset California Housing')\\\n",
        "        .getOrCreate()\n",
        "\n",
        "# visualizando a sessão criada e sua configurações \n",
        "spark"
      ],
      "execution_count": 7,
      "outputs": [
        {
          "output_type": "execute_result",
          "data": {
            "text/html": [
              "\n",
              "            <div>\n",
              "                <p><b>SparkSession - in-memory</b></p>\n",
              "                \n",
              "        <div>\n",
              "            <p><b>SparkContext</b></p>\n",
              "\n",
              "            <p><a href=\"http://5c0541829a18:4040\">Spark UI</a></p>\n",
              "\n",
              "            <dl>\n",
              "              <dt>Version</dt>\n",
              "                <dd><code>v3.1.2</code></dd>\n",
              "              <dt>Master</dt>\n",
              "                <dd><code>local[*]</code></dd>\n",
              "              <dt>AppName</dt>\n",
              "                <dd><code>Linear Regression Model with PySpark/MLlib - dataset California Housing</code></dd>\n",
              "            </dl>\n",
              "        </div>\n",
              "        \n",
              "            </div>\n",
              "        "
            ],
            "text/plain": [
              "<pyspark.sql.session.SparkSession at 0x7f699d401e90>"
            ]
          },
          "metadata": {},
          "execution_count": 7
        }
      ]
    },
    {
      "cell_type": "code",
      "metadata": {
        "colab": {
          "base_uri": "https://localhost:8080/",
          "height": 193
        },
        "id": "YlLmKKgNJcmS",
        "outputId": "5d39047d-d7e7-4d74-c427-3e5d4c7285b0"
      },
      "source": [
        "sc = spark.sparkContext\n",
        "sc"
      ],
      "execution_count": 8,
      "outputs": [
        {
          "output_type": "execute_result",
          "data": {
            "text/html": [
              "\n",
              "        <div>\n",
              "            <p><b>SparkContext</b></p>\n",
              "\n",
              "            <p><a href=\"http://5c0541829a18:4040\">Spark UI</a></p>\n",
              "\n",
              "            <dl>\n",
              "              <dt>Version</dt>\n",
              "                <dd><code>v3.1.2</code></dd>\n",
              "              <dt>Master</dt>\n",
              "                <dd><code>local[*]</code></dd>\n",
              "              <dt>AppName</dt>\n",
              "                <dd><code>Linear Regression Model with PySpark/MLlib - dataset California Housing</code></dd>\n",
              "            </dl>\n",
              "        </div>\n",
              "        "
            ],
            "text/plain": [
              "<SparkContext master=local[*] appName=Linear Regression Model with PySpark/MLlib - dataset California Housing>"
            ]
          },
          "metadata": {},
          "execution_count": 8
        }
      ]
    },
    {
      "cell_type": "code",
      "metadata": {
        "colab": {
          "base_uri": "https://localhost:8080/"
        },
        "id": "77YpsK2xJpdP",
        "outputId": "1dab908d-3939-4064-d473-e8a2bdcf54d9"
      },
      "source": [
        "sqlContext = SQLContext(spark.sparkContext)\n",
        "sqlContext"
      ],
      "execution_count": 9,
      "outputs": [
        {
          "output_type": "execute_result",
          "data": {
            "text/plain": [
              "<pyspark.sql.context.SQLContext at 0x7f699d2b9e10>"
            ]
          },
          "metadata": {},
          "execution_count": 9
        }
      ]
    },
    {
      "cell_type": "markdown",
      "metadata": {
        "id": "zwl2JX3FMFDf"
      },
      "source": [
        "### **5. Importando e carregando o conjunto de dados**"
      ]
    },
    {
      "cell_type": "code",
      "metadata": {
        "colab": {
          "base_uri": "https://localhost:8080/"
        },
        "id": "uDPYl317mrIc",
        "outputId": "74753775-14ca-47ea-a357-ff8263bbd027"
      },
      "source": [
        "# realizando o download do https para arquivo local\n",
        "!wget --quiet --show-progress https://raw.githubusercontent.com/FGalvao77/datasets/main/cal_housing.data"
      ],
      "execution_count": 225,
      "outputs": [
        {
          "output_type": "stream",
          "name": "stdout",
          "text": [
            "\rcal_housing.data.1    0%[                    ]       0  --.-KB/s               \rcal_housing.data.1  100%[===================>]   1.97M  --.-KB/s    in 0.01s   \n"
          ]
        }
      ]
    },
    {
      "cell_type": "code",
      "metadata": {
        "id": "IOzYuKmOnQFk"
      },
      "source": [
        "# instanciando o caminho do arrquivo na variável \"DATA\"\n",
        "DATA = '/content/cal_housing.data'"
      ],
      "execution_count": 226,
      "outputs": []
    },
    {
      "cell_type": "code",
      "metadata": {
        "id": "tIKbmIeLhHA1"
      },
      "source": [
        "# carregando os dados\n",
        "df = spark.read.csv(path=DATA)"
      ],
      "execution_count": 227,
      "outputs": []
    },
    {
      "cell_type": "markdown",
      "metadata": {
        "id": "F-eZxXrSNtgM"
      },
      "source": [
        "### **6. Análise exploratória dos dados**"
      ]
    },
    {
      "cell_type": "code",
      "metadata": {
        "colab": {
          "base_uri": "https://localhost:8080/"
        },
        "id": "WohqF9HHhG3T",
        "outputId": "78a38f87-dc1e-4b53-8be1-06e12f4af5af"
      },
      "source": [
        "# visualizando o conjunto de dados\n",
        "df.take(2)"
      ],
      "execution_count": 228,
      "outputs": [
        {
          "output_type": "execute_result",
          "data": {
            "text/plain": [
              "[Row(_c0='-122.230000', _c1='37.880000', _c2='41.000000', _c3='880.000000', _c4='129.000000', _c5='322.000000', _c6='126.000000', _c7='8.325200', _c8='452600.000000'),\n",
              " Row(_c0='-122.220000', _c1='37.860000', _c2='21.000000', _c3='7099.000000', _c4='1106.000000', _c5='2401.000000', _c6='1138.000000', _c7='8.301400', _c8='358500.000000')]"
            ]
          },
          "metadata": {},
          "execution_count": 228
        }
      ]
    },
    {
      "cell_type": "code",
      "metadata": {
        "colab": {
          "base_uri": "https://localhost:8080/"
        },
        "id": "WUn1PndYqTVJ",
        "outputId": "7d838f53-1afc-43f8-bf79-c91d3622f7ed"
      },
      "source": [
        "# visualizando o conjunto de dados em forma de tabela\n",
        "df.show(5)  # 5 primeiras linhas"
      ],
      "execution_count": 229,
      "outputs": [
        {
          "output_type": "stream",
          "name": "stdout",
          "text": [
            "+-----------+---------+---------+-----------+-----------+-----------+-----------+--------+-------------+\n",
            "|        _c0|      _c1|      _c2|        _c3|        _c4|        _c5|        _c6|     _c7|          _c8|\n",
            "+-----------+---------+---------+-----------+-----------+-----------+-----------+--------+-------------+\n",
            "|-122.230000|37.880000|41.000000| 880.000000| 129.000000| 322.000000| 126.000000|8.325200|452600.000000|\n",
            "|-122.220000|37.860000|21.000000|7099.000000|1106.000000|2401.000000|1138.000000|8.301400|358500.000000|\n",
            "|-122.240000|37.850000|52.000000|1467.000000| 190.000000| 496.000000| 177.000000|7.257400|352100.000000|\n",
            "|-122.250000|37.850000|52.000000|1274.000000| 235.000000| 558.000000| 219.000000|5.643100|341300.000000|\n",
            "|-122.250000|37.850000|52.000000|1627.000000| 280.000000| 565.000000| 259.000000|3.846200|342200.000000|\n",
            "+-----------+---------+---------+-----------+-----------+-----------+-----------+--------+-------------+\n",
            "only showing top 5 rows\n",
            "\n"
          ]
        }
      ]
    },
    {
      "cell_type": "code",
      "metadata": {
        "id": "dOrY2o0C743R"
      },
      "source": [
        "# # visualizando as instâncias únicas da coluna \"ocProx\"\n",
        "# df.select('_c9').distinct().show()"
      ],
      "execution_count": 143,
      "outputs": []
    },
    {
      "cell_type": "markdown",
      "metadata": {
        "id": "X8nyn8XGW29H"
      },
      "source": [
        "> Irei excluir essa coluna da análise."
      ]
    },
    {
      "cell_type": "code",
      "metadata": {
        "colab": {
          "base_uri": "https://localhost:8080/"
        },
        "id": "cNldail7hGnJ",
        "outputId": "7311565e-bd08-4a5a-8295-0048935d986e"
      },
      "source": [
        "# visualizando o nome das colunas\n",
        "df.columns"
      ],
      "execution_count": 230,
      "outputs": [
        {
          "output_type": "execute_result",
          "data": {
            "text/plain": [
              "['_c0', '_c1', '_c2', '_c3', '_c4', '_c5', '_c6', '_c7', '_c8']"
            ]
          },
          "metadata": {},
          "execution_count": 230
        }
      ]
    },
    {
      "cell_type": "markdown",
      "metadata": {
        "id": "SKYrLozmhmz_"
      },
      "source": [
        "> Perceba que, o conjunto de dados não possui a descrição das colunas - seu `header`.\n",
        "\n",
        "E pra facilitar nossas manipulações e visualizações irei instanciar os cabeçalhos."
      ]
    },
    {
      "cell_type": "markdown",
      "metadata": {
        "id": "N2MvPAemic11"
      },
      "source": [
        "Antes vamos olhar que tipo de dados há nas colunas."
      ]
    },
    {
      "cell_type": "code",
      "metadata": {
        "colab": {
          "base_uri": "https://localhost:8080/"
        },
        "id": "QhLRsNJVijre",
        "outputId": "37702e9b-cb54-4699-c5bd-1f1204e45418"
      },
      "source": [
        "# visualizando o tipo de dados das colunas\n",
        "df.printSchema()"
      ],
      "execution_count": 231,
      "outputs": [
        {
          "output_type": "stream",
          "name": "stdout",
          "text": [
            "root\n",
            " |-- _c0: string (nullable = true)\n",
            " |-- _c1: string (nullable = true)\n",
            " |-- _c2: string (nullable = true)\n",
            " |-- _c3: string (nullable = true)\n",
            " |-- _c4: string (nullable = true)\n",
            " |-- _c5: string (nullable = true)\n",
            " |-- _c6: string (nullable = true)\n",
            " |-- _c7: string (nullable = true)\n",
            " |-- _c8: string (nullable = true)\n",
            "\n"
          ]
        }
      ]
    },
    {
      "cell_type": "markdown",
      "metadata": {
        "id": "sMYamHrXi0iX"
      },
      "source": [
        "> Como já é de conhecimento o que dados representam, relatado acima no tópico \"`1. Conhecendo o conjunto de dados`\", as colunas possuem valores numéricos contínuos.\n",
        "\n",
        "Portanto de forma intuitiva irei declarar as colunas numéricas como sendo do tipo de ponto flutuante (`float`)."
      ]
    },
    {
      "cell_type": "markdown",
      "metadata": {
        "id": "U8ojY9EsooR1"
      },
      "source": [
        "Primeiro vamos conhecer o tipo de dados no `Spark`."
      ]
    },
    {
      "cell_type": "code",
      "metadata": {
        "colab": {
          "base_uri": "https://localhost:8080/"
        },
        "id": "u90YF8rapYFQ",
        "outputId": "fb7c0d48-74fd-43d4-c8e9-6351745fd3c9"
      },
      "source": [
        "# visualizando os tipos de dados no pyspark.sql\n",
        "from pyspark.sql import types   # importando a biblioteca \n",
        "\n",
        "# visualizando os tipos de dados\n",
        "for t in ['BinaryType', 'BooleanType', 'ByteType', 'DateType', \n",
        "          'DecimalType', 'DoubleType', 'FloatType', 'IntegerType', \n",
        "           'LongType', 'ShortType', 'StringType', 'TimestampType']:\n",
        "    print(f\"{t}: {getattr(types, t)().simpleString()}\")"
      ],
      "execution_count": 232,
      "outputs": [
        {
          "output_type": "stream",
          "name": "stdout",
          "text": [
            "BinaryType: binary\n",
            "BooleanType: boolean\n",
            "ByteType: tinyint\n",
            "DateType: date\n",
            "DecimalType: decimal(10,0)\n",
            "DoubleType: double\n",
            "FloatType: float\n",
            "IntegerType: int\n",
            "LongType: bigint\n",
            "ShortType: smallint\n",
            "StringType: string\n",
            "TimestampType: timestamp\n"
          ]
        }
      ]
    },
    {
      "cell_type": "markdown",
      "metadata": {
        "id": "vmVH-d-_O6Gg"
      },
      "source": [
        "> Vamos realizar um pré tratamento dos dados:\n",
        "- iremos transformar o tipo de dados das colunas com dados do tipo `string` para `float`."
      ]
    },
    {
      "cell_type": "code",
      "metadata": {
        "id": "zoflIr88pDYS"
      },
      "source": [
        "# função para converter o tipo de dados das colunas\n",
        "def convertColumn(df, names, newType):\n",
        "    for name in names: \n",
        "        df = df.withColumn(name, df[name].cast(newType))\n",
        "    return df "
      ],
      "execution_count": 233,
      "outputs": []
    },
    {
      "cell_type": "code",
      "metadata": {
        "id": "DxRpbIHfrj3m"
      },
      "source": [
        "# # com a função \".drop()\" eliminaremos a coluna \"_c9\"\n",
        "# df = df.drop('_c9')\n",
        "# df.columns"
      ],
      "execution_count": 153,
      "outputs": []
    },
    {
      "cell_type": "code",
      "metadata": {
        "colab": {
          "base_uri": "https://localhost:8080/"
        },
        "id": "kygI5cVcpo4Y",
        "outputId": "80da26d7-5bc5-4298-ffcc-9dcb97961c3b"
      },
      "source": [
        "# atribuindo todos os nomes das colunas a `cols`\n",
        "cols = df.columns  \n",
        "\n",
        "# visualizando as colunas selecionadas\n",
        "cols"
      ],
      "execution_count": 234,
      "outputs": [
        {
          "output_type": "execute_result",
          "data": {
            "text/plain": [
              "['_c0', '_c1', '_c2', '_c3', '_c4', '_c5', '_c6', '_c7', '_c8']"
            ]
          },
          "metadata": {},
          "execution_count": 234
        }
      ]
    },
    {
      "cell_type": "code",
      "metadata": {
        "id": "dourXSNdpotM"
      },
      "source": [
        "# utilizando a função e convertendo as colunas `df` em` FloatType() e,\n",
        "# instanciando em uma nova variável \"housing_df\"\n",
        "housing_df = convertColumn(df, cols, FloatType())"
      ],
      "execution_count": 235,
      "outputs": []
    },
    {
      "cell_type": "code",
      "metadata": {
        "colab": {
          "base_uri": "https://localhost:8080/"
        },
        "id": "I3Qg31fkq8-E",
        "outputId": "a3bec8a7-8929-4f4d-e657-3c5ff20e43f5"
      },
      "source": [
        "# conferindo se a conversão ocorreu conforme planejado\n",
        "housing_df.printSchema()"
      ],
      "execution_count": 236,
      "outputs": [
        {
          "output_type": "stream",
          "name": "stdout",
          "text": [
            "root\n",
            " |-- _c0: float (nullable = true)\n",
            " |-- _c1: float (nullable = true)\n",
            " |-- _c2: float (nullable = true)\n",
            " |-- _c3: float (nullable = true)\n",
            " |-- _c4: float (nullable = true)\n",
            " |-- _c5: float (nullable = true)\n",
            " |-- _c6: float (nullable = true)\n",
            " |-- _c7: float (nullable = true)\n",
            " |-- _c8: float (nullable = true)\n",
            "\n"
          ]
        }
      ]
    },
    {
      "cell_type": "markdown",
      "metadata": {
        "id": "LtROxOfCsr9B"
      },
      "source": [
        "> Tipo de dados foi modificado com sucesso! :  )\n",
        "\n",
        "Porém há um detalhe, o nome das colunas não está nada intuitiva. Vamos resolver esse problema agora!!!!"
      ]
    },
    {
      "cell_type": "markdown",
      "metadata": {
        "id": "WZJ6_ge4tVvl"
      },
      "source": [
        "Irei declarar um esquema (`schema`) definido toda estrutura do conjunto de dados, ou seja, o nome das colunas e, manteremos o tipo de dados como sendo _float_."
      ]
    },
    {
      "cell_type": "code",
      "metadata": {
        "id": "1OyVz1H6nSAt"
      },
      "source": [
        "# declarando a estrutura dos dados\n",
        "schema = StructType([\n",
        "                     StructField('longitude', FloatType(), nullable=True),\n",
        "                     StructField('latitude', FloatType(), nullable=True),\n",
        "                     StructField('housing_median_age', FloatType(), nullable=True),\n",
        "                     StructField('total_rooms', FloatType(), nullable=True),\n",
        "                     StructField('total_bedrooms', FloatType(), nullable=True),\n",
        "                     StructField('population', FloatType(), nullable=True),\n",
        "                     StructField('households', FloatType(), nullable=True),\n",
        "                     StructField('median_income', FloatType(), nullable=True),\n",
        "                     StructField('median_house_value', FloatType(), nullable=True)]\n",
        "                    )"
      ],
      "execution_count": 237,
      "outputs": []
    },
    {
      "cell_type": "code",
      "metadata": {
        "id": "jEZFHI_Y75Le"
      },
      "source": [
        "# carregando  novamente os dados e, passando como argumento o \"schema\"\n",
        "df = spark.read.csv(path=DATA, schema=schema)"
      ],
      "execution_count": 238,
      "outputs": []
    },
    {
      "cell_type": "code",
      "metadata": {
        "colab": {
          "base_uri": "https://localhost:8080/"
        },
        "id": "bRszX33HKHqA",
        "outputId": "b2228d1a-1163-44e6-d009-f53860226c91"
      },
      "source": [
        "# instanciando os dados em uma nova variável e gerando um RDD (Resilient Distributed Dataset)\n",
        "housing_df = df\n",
        "housing_df.cache()   # definindo que, todo processamento dos dados será executado na memória cache"
      ],
      "execution_count": 239,
      "outputs": [
        {
          "output_type": "execute_result",
          "data": {
            "text/plain": [
              "DataFrame[longitude: float, latitude: float, housing_median_age: float, total_rooms: float, total_bedrooms: float, population: float, households: float, median_income: float, median_house_value: float]"
            ]
          },
          "metadata": {},
          "execution_count": 239
        }
      ]
    },
    {
      "cell_type": "code",
      "metadata": {
        "colab": {
          "base_uri": "https://localhost:8080/"
        },
        "id": "2Y0Wemay75Ic",
        "outputId": "e8ee2c87-cdc8-471a-b105-fb5fc1884dbf"
      },
      "source": [
        "# visualizando o tipo do objeto da variável \"df\"\n",
        "type (housing_df)"
      ],
      "execution_count": 240,
      "outputs": [
        {
          "output_type": "execute_result",
          "data": {
            "text/plain": [
              "pyspark.sql.dataframe.DataFrame"
            ]
          },
          "metadata": {},
          "execution_count": 240
        }
      ]
    },
    {
      "cell_type": "code",
      "metadata": {
        "colab": {
          "base_uri": "https://localhost:8080/"
        },
        "id": "sPOvv9bcOOwl",
        "outputId": "8e493ee7-3f61-4494-9dd3-a7889a1f1a53"
      },
      "source": [
        "# visualizando a quantidade de linhas\n",
        "housing_df.count()"
      ],
      "execution_count": 241,
      "outputs": [
        {
          "output_type": "execute_result",
          "data": {
            "text/plain": [
              "20640"
            ]
          },
          "metadata": {},
          "execution_count": 241
        }
      ]
    },
    {
      "cell_type": "code",
      "metadata": {
        "colab": {
          "base_uri": "https://localhost:8080/"
        },
        "id": "_k43ycb475EB",
        "outputId": "d3a41e47-6042-4ee8-f0bb-6cf2d5216a08"
      },
      "source": [
        "# nome das colunas\n",
        "housing_df.columns"
      ],
      "execution_count": 242,
      "outputs": [
        {
          "output_type": "execute_result",
          "data": {
            "text/plain": [
              "['longitude',\n",
              " 'latitude',\n",
              " 'housing_median_age',\n",
              " 'total_rooms',\n",
              " 'total_bedrooms',\n",
              " 'population',\n",
              " 'households',\n",
              " 'median_income',\n",
              " 'median_house_value']"
            ]
          },
          "metadata": {},
          "execution_count": 242
        }
      ]
    },
    {
      "cell_type": "code",
      "metadata": {
        "colab": {
          "base_uri": "https://localhost:8080/"
        },
        "id": "GmSyuQuj75CU",
        "outputId": "f1dd2f13-4510-49cb-a81e-252ccc689278"
      },
      "source": [
        "# visualizando as 5 primeiras linhas\n",
        "housing_df.take(5)"
      ],
      "execution_count": 243,
      "outputs": [
        {
          "output_type": "execute_result",
          "data": {
            "text/plain": [
              "[Row(longitude=-122.2300033569336, latitude=37.880001068115234, housing_median_age=41.0, total_rooms=880.0, total_bedrooms=129.0, population=322.0, households=126.0, median_income=8.325200080871582, median_house_value=452600.0),\n",
              " Row(longitude=-122.22000122070312, latitude=37.86000061035156, housing_median_age=21.0, total_rooms=7099.0, total_bedrooms=1106.0, population=2401.0, households=1138.0, median_income=8.301400184631348, median_house_value=358500.0),\n",
              " Row(longitude=-122.23999786376953, latitude=37.849998474121094, housing_median_age=52.0, total_rooms=1467.0, total_bedrooms=190.0, population=496.0, households=177.0, median_income=7.257400035858154, median_house_value=352100.0),\n",
              " Row(longitude=-122.25, latitude=37.849998474121094, housing_median_age=52.0, total_rooms=1274.0, total_bedrooms=235.0, population=558.0, households=219.0, median_income=5.643099784851074, median_house_value=341300.0),\n",
              " Row(longitude=-122.25, latitude=37.849998474121094, housing_median_age=52.0, total_rooms=1627.0, total_bedrooms=280.0, population=565.0, households=259.0, median_income=3.8461999893188477, median_house_value=342200.0)]"
            ]
          },
          "metadata": {},
          "execution_count": 243
        }
      ]
    },
    {
      "cell_type": "code",
      "metadata": {
        "colab": {
          "base_uri": "https://localhost:8080/"
        },
        "id": "77x-2tSkOmGk",
        "outputId": "6b6b2721-819a-4df7-b5d1-603a146bccb7"
      },
      "source": [
        "# visualizando o conjunto de dados em formato de tabela\n",
        "housing_df.show()    # por padrão é exibido as 20 primeiras linhas"
      ],
      "execution_count": 244,
      "outputs": [
        {
          "output_type": "stream",
          "name": "stdout",
          "text": [
            "+---------+--------+------------------+-----------+--------------+----------+----------+-------------+------------------+\n",
            "|longitude|latitude|housing_median_age|total_rooms|total_bedrooms|population|households|median_income|median_house_value|\n",
            "+---------+--------+------------------+-----------+--------------+----------+----------+-------------+------------------+\n",
            "|  -122.23|   37.88|              41.0|      880.0|         129.0|     322.0|     126.0|       8.3252|          452600.0|\n",
            "|  -122.22|   37.86|              21.0|     7099.0|        1106.0|    2401.0|    1138.0|       8.3014|          358500.0|\n",
            "|  -122.24|   37.85|              52.0|     1467.0|         190.0|     496.0|     177.0|       7.2574|          352100.0|\n",
            "|  -122.25|   37.85|              52.0|     1274.0|         235.0|     558.0|     219.0|       5.6431|          341300.0|\n",
            "|  -122.25|   37.85|              52.0|     1627.0|         280.0|     565.0|     259.0|       3.8462|          342200.0|\n",
            "|  -122.25|   37.85|              52.0|      919.0|         213.0|     413.0|     193.0|       4.0368|          269700.0|\n",
            "|  -122.25|   37.84|              52.0|     2535.0|         489.0|    1094.0|     514.0|       3.6591|          299200.0|\n",
            "|  -122.25|   37.84|              52.0|     3104.0|         687.0|    1157.0|     647.0|         3.12|          241400.0|\n",
            "|  -122.26|   37.84|              42.0|     2555.0|         665.0|    1206.0|     595.0|       2.0804|          226700.0|\n",
            "|  -122.25|   37.84|              52.0|     3549.0|         707.0|    1551.0|     714.0|       3.6912|          261100.0|\n",
            "|  -122.26|   37.85|              52.0|     2202.0|         434.0|     910.0|     402.0|       3.2031|          281500.0|\n",
            "|  -122.26|   37.85|              52.0|     3503.0|         752.0|    1504.0|     734.0|       3.2705|          241800.0|\n",
            "|  -122.26|   37.85|              52.0|     2491.0|         474.0|    1098.0|     468.0|        3.075|          213500.0|\n",
            "|  -122.26|   37.84|              52.0|      696.0|         191.0|     345.0|     174.0|       2.6736|          191300.0|\n",
            "|  -122.26|   37.85|              52.0|     2643.0|         626.0|    1212.0|     620.0|       1.9167|          159200.0|\n",
            "|  -122.26|   37.85|              50.0|     1120.0|         283.0|     697.0|     264.0|        2.125|          140000.0|\n",
            "|  -122.27|   37.85|              52.0|     1966.0|         347.0|     793.0|     331.0|        2.775|          152500.0|\n",
            "|  -122.27|   37.85|              52.0|     1228.0|         293.0|     648.0|     303.0|       2.1202|          155500.0|\n",
            "|  -122.26|   37.84|              50.0|     2239.0|         455.0|     990.0|     419.0|       1.9911|          158700.0|\n",
            "|  -122.27|   37.84|              52.0|     1503.0|         298.0|     690.0|     275.0|       2.6033|          162900.0|\n",
            "+---------+--------+------------------+-----------+--------------+----------+----------+-------------+------------------+\n",
            "only showing top 20 rows\n",
            "\n"
          ]
        }
      ]
    },
    {
      "cell_type": "code",
      "metadata": {
        "colab": {
          "base_uri": "https://localhost:8080/"
        },
        "id": "LRqXEvGA75G9",
        "outputId": "31c54862-6c50-43f7-bb99-fba98852e742"
      },
      "source": [
        "# visualizando informações sobre os tipos de dados de cada coluna\n",
        "housing_df.printSchema()"
      ],
      "execution_count": 245,
      "outputs": [
        {
          "output_type": "stream",
          "name": "stdout",
          "text": [
            "root\n",
            " |-- longitude: float (nullable = true)\n",
            " |-- latitude: float (nullable = true)\n",
            " |-- housing_median_age: float (nullable = true)\n",
            " |-- total_rooms: float (nullable = true)\n",
            " |-- total_bedrooms: float (nullable = true)\n",
            " |-- population: float (nullable = true)\n",
            " |-- households: float (nullable = true)\n",
            " |-- median_income: float (nullable = true)\n",
            " |-- median_house_value: float (nullable = true)\n",
            "\n"
          ]
        }
      ]
    },
    {
      "cell_type": "markdown",
      "metadata": {
        "id": "A-eCPOSN6ph2"
      },
      "source": [
        "**Agora vamos renomear as colunas, deixando-as mais \"enxuta\" a sua descrição.**"
      ]
    },
    {
      "cell_type": "code",
      "metadata": {
        "id": "Hsfi8r4U2HJC"
      },
      "source": [
        "# criando uma função para otimizar a renomeação das colunas\n",
        "def renameCols(df, old_columns, new_columns):\n",
        "    for old_cols, new_cols in zip(old_columns, new_columns):\n",
        "        df = df.withColumnRenamed(old_cols, new_cols)\n",
        "    return df"
      ],
      "execution_count": 246,
      "outputs": []
    },
    {
      "cell_type": "code",
      "metadata": {
        "id": "O26keZsR2G3C"
      },
      "source": [
        "# instanciando a colunas atuais e o novos nome das colunas\n",
        "old_cols = housing_df.columns\n",
        "new_cols = ['long', 'lat', 'medAge', 'totRms', 'totBedRms', \n",
        "            'pop', 'housHlds', 'medInc', 'medHval']"
      ],
      "execution_count": 247,
      "outputs": []
    },
    {
      "cell_type": "code",
      "metadata": {
        "colab": {
          "base_uri": "https://localhost:8080/"
        },
        "id": "01OaaW6m7LRV",
        "outputId": "f40b5b34-0392-46d3-ca07-1b6acf8bface"
      },
      "source": [
        "# perceba que, os dois tipo de objeto são listas e do mesmo tamanho\n",
        "type (old_cols), len(old_cols), type (new_cols), len(new_cols)"
      ],
      "execution_count": 248,
      "outputs": [
        {
          "output_type": "execute_result",
          "data": {
            "text/plain": [
              "(list, 9, list, 9)"
            ]
          },
          "metadata": {},
          "execution_count": 248
        }
      ]
    },
    {
      "cell_type": "code",
      "metadata": {
        "id": "BZGpYEeV50l9"
      },
      "source": [
        "# aplicando a função no conjunto de dados e sobreescrevendo a variável \"dfRDD\"\n",
        "housing_df = renameCols(housing_df, old_cols, new_cols)"
      ],
      "execution_count": 249,
      "outputs": []
    },
    {
      "cell_type": "code",
      "metadata": {
        "colab": {
          "base_uri": "https://localhost:8080/"
        },
        "id": "MApvT39v6HPF",
        "outputId": "e974b36a-52be-4630-cfe8-570cb445f63d"
      },
      "source": [
        "# visualizando 2 primeiras linhas\n",
        "housing_df.show(2)"
      ],
      "execution_count": 250,
      "outputs": [
        {
          "output_type": "stream",
          "name": "stdout",
          "text": [
            "+-------+-----+------+------+---------+------+--------+------+--------+\n",
            "|   long|  lat|medAge|totRms|totBedRms|   pop|housHlds|medInc| medHval|\n",
            "+-------+-----+------+------+---------+------+--------+------+--------+\n",
            "|-122.23|37.88|  41.0| 880.0|    129.0| 322.0|   126.0|8.3252|452600.0|\n",
            "|-122.22|37.86|  21.0|7099.0|   1106.0|2401.0|  1138.0|8.3014|358500.0|\n",
            "+-------+-----+------+------+---------+------+--------+------+--------+\n",
            "only showing top 2 rows\n",
            "\n"
          ]
        }
      ]
    },
    {
      "cell_type": "code",
      "metadata": {
        "colab": {
          "base_uri": "https://localhost:8080/"
        },
        "id": "SS8R_68trsKy",
        "outputId": "03148e6e-8f79-4320-bafc-4c29eab534f3"
      },
      "source": [
        "# visualizando o tipo de dado das colunas\n",
        "housing_df.printSchema()"
      ],
      "execution_count": 251,
      "outputs": [
        {
          "output_type": "stream",
          "name": "stdout",
          "text": [
            "root\n",
            " |-- long: float (nullable = true)\n",
            " |-- lat: float (nullable = true)\n",
            " |-- medAge: float (nullable = true)\n",
            " |-- totRms: float (nullable = true)\n",
            " |-- totBedRms: float (nullable = true)\n",
            " |-- pop: float (nullable = true)\n",
            " |-- housHlds: float (nullable = true)\n",
            " |-- medInc: float (nullable = true)\n",
            " |-- medHval: float (nullable = true)\n",
            "\n"
          ]
        }
      ]
    },
    {
      "cell_type": "code",
      "metadata": {
        "colab": {
          "base_uri": "https://localhost:8080/"
        },
        "id": "bdXsG421v5Z1",
        "outputId": "3644ecc3-1017-4c69-9094-6a65d9850554"
      },
      "source": [
        "# verificando se há valores ausentes (\"NaN\")\n",
        "housing_df.select([F.count(F.when(F.isnan(c), c)).\n",
        "                   alias(c) for c in housing_df.\n",
        "                   columns]).show()"
      ],
      "execution_count": 252,
      "outputs": [
        {
          "output_type": "stream",
          "name": "stdout",
          "text": [
            "+----+---+------+------+---------+---+--------+------+-------+\n",
            "|long|lat|medAge|totRms|totBedRms|pop|housHlds|medInc|medHval|\n",
            "+----+---+------+------+---------+---+--------+------+-------+\n",
            "|   0|  0|     0|     0|        0|  0|       0|     0|      0|\n",
            "+----+---+------+------+---------+---+--------+------+-------+\n",
            "\n"
          ]
        }
      ]
    },
    {
      "cell_type": "code",
      "metadata": {
        "id": "CcnKID8aw2bo"
      },
      "source": [
        "# selecionando as colunas de interesse e sobreescrevendo a variável\n",
        "housing_df = housing_df.select('long', 'lat', 'medAge', 'totRms', 'totBedRms', \n",
        "                               'pop', 'housHlds', 'medInc', 'medHval')"
      ],
      "execution_count": 253,
      "outputs": []
    },
    {
      "cell_type": "code",
      "metadata": {
        "colab": {
          "base_uri": "https://localhost:8080/"
        },
        "id": "gHY1pRqy74zd",
        "outputId": "f32cb4a9-57a9-44f7-c40f-4739faf223b3"
      },
      "source": [
        "# visualizando as 5 primeiras instâncias após a seleção das colunas de interesse\n",
        "housing_df.show(5)"
      ],
      "execution_count": 254,
      "outputs": [
        {
          "output_type": "stream",
          "name": "stdout",
          "text": [
            "+-------+-----+------+------+---------+------+--------+------+--------+\n",
            "|   long|  lat|medAge|totRms|totBedRms|   pop|housHlds|medInc| medHval|\n",
            "+-------+-----+------+------+---------+------+--------+------+--------+\n",
            "|-122.23|37.88|  41.0| 880.0|    129.0| 322.0|   126.0|8.3252|452600.0|\n",
            "|-122.22|37.86|  21.0|7099.0|   1106.0|2401.0|  1138.0|8.3014|358500.0|\n",
            "|-122.24|37.85|  52.0|1467.0|    190.0| 496.0|   177.0|7.2574|352100.0|\n",
            "|-122.25|37.85|  52.0|1274.0|    235.0| 558.0|   219.0|5.6431|341300.0|\n",
            "|-122.25|37.85|  52.0|1627.0|    280.0| 565.0|   259.0|3.8462|342200.0|\n",
            "+-------+-----+------+------+---------+------+--------+------+--------+\n",
            "only showing top 5 rows\n",
            "\n"
          ]
        }
      ]
    },
    {
      "cell_type": "code",
      "metadata": {
        "colab": {
          "base_uri": "https://localhost:8080/"
        },
        "id": "7vYcZiUv74xB",
        "outputId": "59102a03-f790-46a7-ba3f-e8dfffc51d74"
      },
      "source": [
        "# visualizando uma amostra dos dados das colunas \"population\" e \"total_bedrooms\"\n",
        "housing_df.select('pop', 'totBedRms').show(10)"
      ],
      "execution_count": 255,
      "outputs": [
        {
          "output_type": "stream",
          "name": "stdout",
          "text": [
            "+------+---------+\n",
            "|   pop|totBedRms|\n",
            "+------+---------+\n",
            "| 322.0|    129.0|\n",
            "|2401.0|   1106.0|\n",
            "| 496.0|    190.0|\n",
            "| 558.0|    235.0|\n",
            "| 565.0|    280.0|\n",
            "| 413.0|    213.0|\n",
            "|1094.0|    489.0|\n",
            "|1157.0|    687.0|\n",
            "|1206.0|    665.0|\n",
            "|1551.0|    707.0|\n",
            "+------+---------+\n",
            "only showing top 10 rows\n",
            "\n"
          ]
        }
      ]
    },
    {
      "cell_type": "code",
      "metadata": {
        "colab": {
          "base_uri": "https://localhost:8080/"
        },
        "id": "SMGnn_Kx74vl",
        "outputId": "413f4cb5-4da6-42c1-9cb8-2642a3d10a71"
      },
      "source": [
        "# ordenando em ordem crescente a seleção da amostra pela tamanho da população\n",
        "housing_df.select('pop', 'totBedRms').sort('pop', \n",
        "                                           ascending=True).show()"
      ],
      "execution_count": 256,
      "outputs": [
        {
          "output_type": "stream",
          "name": "stdout",
          "text": [
            "+----+---------+\n",
            "| pop|totBedRms|\n",
            "+----+---------+\n",
            "| 3.0|      6.0|\n",
            "| 5.0|      3.0|\n",
            "| 6.0|      2.0|\n",
            "| 8.0|      4.0|\n",
            "| 8.0|      4.0|\n",
            "| 8.0|      3.0|\n",
            "| 8.0|      2.0|\n",
            "| 9.0|      4.0|\n",
            "| 9.0|     10.0|\n",
            "|11.0|      3.0|\n",
            "|13.0|      8.0|\n",
            "|13.0|      1.0|\n",
            "|13.0|      5.0|\n",
            "|13.0|      4.0|\n",
            "|14.0|      7.0|\n",
            "|14.0|     10.0|\n",
            "|14.0|      5.0|\n",
            "|15.0|      5.0|\n",
            "|15.0|      5.0|\n",
            "|17.0|      7.0|\n",
            "+----+---------+\n",
            "only showing top 20 rows\n",
            "\n"
          ]
        }
      ]
    },
    {
      "cell_type": "code",
      "metadata": {
        "colab": {
          "base_uri": "https://localhost:8080/"
        },
        "id": "GNrjvrkA74sC",
        "outputId": "67022026-74b2-4257-d44c-93fd7a4aa6a5"
      },
      "source": [
        "# distribuição da idade média das casas\n",
        "age_mean = housing_df.groupBy('medAge').count().sort('medAge', \n",
        "                                                     ascending=False)\n",
        "\n",
        "# visualizando a distribuição das idades das casas\n",
        "age_mean.show(20)"
      ],
      "execution_count": 257,
      "outputs": [
        {
          "output_type": "stream",
          "name": "stdout",
          "text": [
            "+------+-----+\n",
            "|medAge|count|\n",
            "+------+-----+\n",
            "|  52.0| 1273|\n",
            "|  51.0|   48|\n",
            "|  50.0|  136|\n",
            "|  49.0|  134|\n",
            "|  48.0|  177|\n",
            "|  47.0|  198|\n",
            "|  46.0|  245|\n",
            "|  45.0|  294|\n",
            "|  44.0|  356|\n",
            "|  43.0|  353|\n",
            "|  42.0|  368|\n",
            "|  41.0|  296|\n",
            "|  40.0|  304|\n",
            "|  39.0|  369|\n",
            "|  38.0|  394|\n",
            "|  37.0|  537|\n",
            "|  36.0|  862|\n",
            "|  35.0|  824|\n",
            "|  34.0|  689|\n",
            "|  33.0|  615|\n",
            "+------+-----+\n",
            "only showing top 20 rows\n",
            "\n"
          ]
        }
      ]
    },
    {
      "cell_type": "code",
      "metadata": {
        "colab": {
          "base_uri": "https://localhost:8080/",
          "height": 407
        },
        "id": "eI-xDYx174pr",
        "outputId": "fb2a4441-cda2-40d0-d907-08da70df9fea"
      },
      "source": [
        "# plotando o gráfico da distribuição das idades das casas\n",
        "age_mean.toPandas().plot.bar(x='medAge', \n",
        "                                figsize=(17, 6));"
      ],
      "execution_count": 258,
      "outputs": [
        {
          "output_type": "display_data",
          "data": {
            "image/png": "[encoded data removed]",
            "text/plain": [
              "<Figure size 1224x432 with 1 Axes>"
            ]
          },
          "metadata": {
            "image/png": {
              "width": 1000,
              "height": 390
            },
            "needs_background": "light"
          }
        }
      ]
    },
    {
      "cell_type": "markdown",
      "metadata": {
        "id": "omjNm0TvcVhg"
      },
      "source": [
        "> A idades das casas apresenta uma longa distribuição e, grande parte está entre 15 e 40 anos. Há um montante considerável de casas com idade de 52 anos de construção.\n",
        "\n",
        "Intuitivamente podemos dizer que, o local esteja passando por uma transformação onde, casas antigas está sendo demolidas e novas construídas e/ou a região nas últimas décadas sofreu uma expansão demográfica."
      ]
    },
    {
      "cell_type": "code",
      "metadata": {
        "colab": {
          "base_uri": "https://localhost:8080/",
          "height": 377
        },
        "id": "RKaD21f27Hfs",
        "outputId": "6d39e33b-29c5-4cb1-af4f-99ee0b88019a"
      },
      "source": [
        "# plotando o gráfico boxplot das distribuições das idades das casas\n",
        "age_mean.toPandas().plot.box(y='medAge', \n",
        "                                figsize=(17, 6));"
      ],
      "execution_count": 260,
      "outputs": [
        {
          "output_type": "display_data",
          "data": {
            "image/png": "[encoded data removed]",
            "text/plain": [
              "<Figure size 1224x432 with 1 Axes>"
            ]
          },
          "metadata": {
            "image/png": {
              "width": 986,
              "height": 360
            },
            "needs_background": "light"
          }
        }
      ]
    },
    {
      "cell_type": "markdown",
      "metadata": {
        "id": "Lr19mephhOAQ"
      },
      "source": [
        "### **7. Dados estatísticos**"
      ]
    },
    {
      "cell_type": "markdown",
      "metadata": {
        "id": "uQXyfvj1h1uU"
      },
      "source": [
        "Spark DataFrames inclui algumas funções integradas para processamento estatístico. A função `.describe()` executa cálculos de estatísticas resumidas em todas as colunas numéricas e os retorna como um DataFrame."
      ]
    },
    {
      "cell_type": "code",
      "metadata": {
        "colab": {
          "base_uri": "https://localhost:8080/"
        },
        "id": "yhnoc_7274nW",
        "outputId": "8d7bb04f-e287-4e34-ea6c-ecdbb99823da"
      },
      "source": [
        "# estatísticas descritivas\n",
        "housing_df.describe().show()"
      ],
      "execution_count": 261,
      "outputs": [
        {
          "output_type": "stream",
          "name": "stdout",
          "text": [
            "+-------+-------------------+-----------------+------------------+------------------+-----------------+------------------+-----------------+------------------+------------------+\n",
            "|summary|               long|              lat|            medAge|            totRms|        totBedRms|               pop|         housHlds|            medInc|           medHval|\n",
            "+-------+-------------------+-----------------+------------------+------------------+-----------------+------------------+-----------------+------------------+------------------+\n",
            "|  count|              20640|            20640|             20640|             20640|            20640|             20640|            20640|             20640|             20640|\n",
            "|   mean|-119.56970444871473|35.63186143109965|28.639486434108527|2635.7630813953488|537.8980135658915|1425.4767441860465|499.5396802325581|3.8706710030346416|206855.81690891474|\n",
            "| stddev|  2.003531742932898|2.135952380602968| 12.58555761211163|2181.6152515827944| 421.247905943133|  1132.46212176534|382.3297528316098|1.8998217183639696|115395.61587441359|\n",
            "|    min|            -124.35|            32.54|               1.0|               2.0|              1.0|               3.0|              1.0|            0.4999|           14999.0|\n",
            "|    max|            -114.31|            41.95|              52.0|           39320.0|           6445.0|           35682.0|           6082.0|           15.0001|          500001.0|\n",
            "+-------+-------------------+-----------------+------------------+------------------+-----------------+------------------+-----------------+------------------+------------------+\n",
            "\n"
          ]
        }
      ]
    },
    {
      "cell_type": "code",
      "metadata": {
        "colab": {
          "base_uri": "https://localhost:8080/"
        },
        "id": "EoqA7N3DlN8n",
        "outputId": "d16530bc-532b-4039-ede0-0b25cffe68fc"
      },
      "source": [
        "# criando uma seleção das colunas de interesse e visualizando suas estatísticas\n",
        "(housing_df.describe().select(\n",
        "    'summary',\n",
        "    F.round('medAge', 4).alias('med_age'),\n",
        "    F.round('totRms', 4).alias('tot_rms'),\n",
        "    F.round('totBedRms', 4).alias('tot_bed_rms'),\n",
        "    F.round('pop', 4).alias('pop'),\n",
        "    F.round('housHlds', 4).alias('house_holds'),\n",
        "    F.round('medInc', 4).alias('med_income'),\n",
        "    F.round('medHval', 4).alias('med_house_val')).show())"
      ],
      "execution_count": 262,
      "outputs": [
        {
          "output_type": "stream",
          "name": "stdout",
          "text": [
            "+-------+-------+---------+-----------+---------+-----------+----------+-------------+\n",
            "|summary|med_age|  tot_rms|tot_bed_rms|      pop|house_holds|med_income|med_house_val|\n",
            "+-------+-------+---------+-----------+---------+-----------+----------+-------------+\n",
            "|  count|20640.0|  20640.0|    20640.0|  20640.0|    20640.0|   20640.0|      20640.0|\n",
            "|   mean|28.6395|2635.7631|    537.898|1425.4767|   499.5397|    3.8707|  206855.8169|\n",
            "| stddev|12.5856|2181.6153|   421.2479|1132.4621|   382.3298|    1.8998|  115395.6159|\n",
            "|    min|    1.0|      2.0|        1.0|      3.0|        1.0|    0.4999|      14999.0|\n",
            "|    max|   52.0|  39320.0|     6445.0|  35682.0|     6082.0|   15.0001|     500001.0|\n",
            "+-------+-------+---------+-----------+---------+-----------+----------+-------------+\n",
            "\n"
          ]
        }
      ]
    },
    {
      "cell_type": "markdown",
      "metadata": {
        "id": "B5tdk5cbbNrw"
      },
      "source": [
        "> Observe os valores mínimo e máximo de todos os atributos (numéricos). Vemos que vários atributos têm uma ampla gama de valores: precisaremos normalizar seu conjunto de dados."
      ]
    },
    {
      "cell_type": "code",
      "metadata": {
        "id": "Qo2fPpDA7uaD"
      },
      "source": [
        "# criando uma seleção das variáveis de interesse \n",
        "distr_values = (housing_df.describe().select(\n",
        "    F.round('medAge', 4).alias('med_age'),\n",
        "    F.round('totRms', 4).alias('tot_rms'),\n",
        "    F.round('totBedRms', 4).alias('tot_bed_rms'),\n",
        "    F.round('pop', 4).alias('pop'),\n",
        "    F.round('housHlds', 4).alias('house_holds'),\n",
        "    F.round('medInc', 4).alias('med_income'),\n",
        "    F.round('medHval', 4).alias('med_house_val')))"
      ],
      "execution_count": 263,
      "outputs": []
    },
    {
      "cell_type": "code",
      "metadata": {
        "colab": {
          "base_uri": "https://localhost:8080/",
          "height": 377
        },
        "id": "1rFfbOvd8GtU",
        "outputId": "91590f66-aa9c-4a15-f150-1d5a5b5c36c6"
      },
      "source": [
        "# plotando o gráfico boxplot das distribuições das variáveis instanciadad acima\n",
        "distr_values.toPandas().plot.box(x='med_age', \n",
        "                                figsize=(17, 6));"
      ],
      "execution_count": 264,
      "outputs": [
        {
          "output_type": "display_data",
          "data": {
            "image/png": "[encoded data removed]",
            "text/plain": [
              "<Figure size 1224x432 with 1 Axes>"
            ]
          },
          "metadata": {
            "image/png": {
              "width": 1014,
              "height": 360
            },
            "needs_background": "light"
          }
        }
      ]
    },
    {
      "cell_type": "markdown",
      "metadata": {
        "id": "a6Iv_jt5bfek"
      },
      "source": [
        "### **8. Pré-processamento dos dados**"
      ]
    },
    {
      "cell_type": "markdown",
      "metadata": {
        "id": "QFtx_u2Db6lM"
      },
      "source": [
        "Com todas essas informações que coletamos em nossa pequena análise exploratória de dados, sabemos o suficiente para pré-processar nossos dados e alimentá-los para o modelo.\n",
        "\n",
        "- não devemos nos preocupar com valores ausentes; todos os valores zero foram excluídos do conjunto de dados.\n",
        "- provavelmente deveríamos padronizar nossos dados, pois vimos que a faixa de valores mínimo e máximo é bastante grande.\n",
        "- existem possivelmente alguns atributos adicionais que poderíamos adicionar, como um recurso que registra o número de quartos por cômodo ou os cômodos por residência.\n",
        "- nossa variável dependente também é muito grande; Para tornar nossa vida mais fácil, teremos que ajustar ligeiramente os valores."
      ]
    },
    {
      "cell_type": "markdown",
      "metadata": {
        "id": "r4W0CqIacTbJ"
      },
      "source": [
        "#### **8.1 Pré-processamento dos valores `alvo`** \n",
        "\n",
        "> Primeiro, vamos começar com _medianHouseValue_, nossa variável dependente. Para facilitar nosso trabalho com os valores-alvo, expressaremos os valores da casa em unidades de 100.000. Isso significa que uma meta como 452600,000000 deve se tornar 4.526:"
      ]
    },
    {
      "cell_type": "code",
      "metadata": {
        "id": "mc_WLezveHog"
      },
      "source": [
        "# antes do pré-processamento irei criar uma cópia dos dados\n",
        "# para que, o tratamento não sobreescreva os dados originais\n",
        "housing_df_copy = housing_df"
      ],
      "execution_count": 265,
      "outputs": []
    },
    {
      "cell_type": "code",
      "metadata": {
        "colab": {
          "base_uri": "https://localhost:8080/"
        },
        "id": "n91DkHwV9gwt",
        "outputId": "cdb36aba-ef06-4ac5-a76d-c0ff36b58606"
      },
      "source": [
        "# visualizando o nome das colunas da cópia do conjunto de dados\n",
        "housing_df_copy.columns"
      ],
      "execution_count": 266,
      "outputs": [
        {
          "output_type": "execute_result",
          "data": {
            "text/plain": [
              "['long',\n",
              " 'lat',\n",
              " 'medAge',\n",
              " 'totRms',\n",
              " 'totBedRms',\n",
              " 'pop',\n",
              " 'housHlds',\n",
              " 'medInc',\n",
              " 'medHval']"
            ]
          },
          "metadata": {},
          "execution_count": 266
        }
      ]
    },
    {
      "cell_type": "code",
      "metadata": {
        "id": "yLUdpnJw74ir"
      },
      "source": [
        "# ajustando os valores de \"median_house_value\"\n",
        "housing_df_copy = housing_df_copy.withColumn('medHval', \n",
        "                                             col('medHval') / 100_000)"
      ],
      "execution_count": 267,
      "outputs": []
    },
    {
      "cell_type": "code",
      "metadata": {
        "id": "m2FPGBt0734v",
        "colab": {
          "base_uri": "https://localhost:8080/"
        },
        "outputId": "8b892168-399a-4db2-b0f8-f78d60915437"
      },
      "source": [
        "# visualizando as 2 primeiras linhas\n",
        "housing_df_copy.show(2)"
      ],
      "execution_count": 268,
      "outputs": [
        {
          "output_type": "stream",
          "name": "stdout",
          "text": [
            "+-------+-----+------+------+---------+------+--------+------+-------+\n",
            "|   long|  lat|medAge|totRms|totBedRms|   pop|housHlds|medInc|medHval|\n",
            "+-------+-----+------+------+---------+------+--------+------+-------+\n",
            "|-122.23|37.88|  41.0| 880.0|    129.0| 322.0|   126.0|8.3252|  4.526|\n",
            "|-122.22|37.86|  21.0|7099.0|   1106.0|2401.0|  1138.0|8.3014|  3.585|\n",
            "+-------+-----+------+------+---------+------+--------+------+-------+\n",
            "only showing top 2 rows\n",
            "\n"
          ]
        }
      ]
    },
    {
      "cell_type": "markdown",
      "metadata": {
        "id": "SCoubex-e8Z6"
      },
      "source": [
        "> Podemos ver claramente que os valores foram ajustados corretamente quando olhamos para o resultado do método `.show()`."
      ]
    },
    {
      "cell_type": "markdown",
      "metadata": {
        "id": "8TyVMJlWfPlg"
      },
      "source": [
        "### **9. Engenharia de recursos**\n",
        "\n",
        "Agora que ajustamos os valores em `median_house_value`, iremos adicionar as seguintes colunas ao conjunto de dados:\n",
        "\n",
        "- Cômodos por domicílio, que se refere ao número de cômodos dos domicílios por grupo de quarteirões;\n",
        "- População por domicílio, o que basicamente nos dá uma indicação de quantas pessoas vivem em domicílios por grupo de quarteirões e,\n",
        "- Quartos por cômodo que nos dará uma ideia de quantos cômodos são dormitórios por bloco."
      ]
    },
    {
      "cell_type": "markdown",
      "metadata": {
        "id": "Kaqjl9tufwdf"
      },
      "source": [
        "Como estamos trabalhando com DataFrames, podemos usar melhor o método **select( )** para selecionar as colunas com as quais trabalharemos, ou seja, `total_rooms`, `households` e `population`. Além disso, temos que indicar que estamos trabalhando com colunas adicionando a função **col( )** ao nosso código. Caso contrário, não seremos capazes de fazer operações em elementos como a divisão que temos em mente para essas três variáveis."
      ]
    },
    {
      "cell_type": "code",
      "metadata": {
        "colab": {
          "base_uri": "https://localhost:8080/"
        },
        "id": "ITxLM_rbgAQI",
        "outputId": "a634512c-4d0c-4f28-f132-c06a091f21f3"
      },
      "source": [
        "# visualizando o nome das colunas\n",
        "housing_df_copy.columns"
      ],
      "execution_count": 269,
      "outputs": [
        {
          "output_type": "execute_result",
          "data": {
            "text/plain": [
              "['long',\n",
              " 'lat',\n",
              " 'medAge',\n",
              " 'totRms',\n",
              " 'totBedRms',\n",
              " 'pop',\n",
              " 'housHlds',\n",
              " 'medInc',\n",
              " 'medHval']"
            ]
          },
          "metadata": {},
          "execution_count": 269
        }
      ]
    },
    {
      "cell_type": "markdown",
      "metadata": {
        "id": "gv1zq3cHjVa7"
      },
      "source": [
        "- **Dicionário:**\n",
        "    - `rooms_per_household`: cômodos por domicílo;\n",
        "    - `population_per_household`: população por domicílo e,\n",
        "    - `bedrooms_per_room`: quartos por cômodo."
      ]
    },
    {
      "cell_type": "code",
      "metadata": {
        "id": "0RSYOvBP_CWE"
      },
      "source": [
        "# adicionando novas colunas ao conjunto de dados conforme o dicionário acima\n",
        "housing_df_copy = (housing_df_copy.withColumn('rmsPerHousHld', F.round(col('totRms') / col('housHlds'), 2))\n",
        "                                  .withColumn('popPerHousHld', F.round(col('pop') / col('housHlds'), 2))\n",
        "                                  .withColumn('bedRmsPerRm', F.round(col('totBedRms') / col('totRms'), 2)))"
      ],
      "execution_count": 270,
      "outputs": []
    },
    {
      "cell_type": "code",
      "metadata": {
        "colab": {
          "base_uri": "https://localhost:8080/"
        },
        "id": "9SgwoZeH-pSF",
        "outputId": "35f9c318-b425-425d-8a63-05c7e472668b"
      },
      "source": [
        "# visualizando o resultado\n",
        "housing_df_copy.show(5)"
      ],
      "execution_count": 271,
      "outputs": [
        {
          "output_type": "stream",
          "name": "stdout",
          "text": [
            "+-------+-----+------+------+---------+------+--------+------+-------+-------------+-------------+-----------+\n",
            "|   long|  lat|medAge|totRms|totBedRms|   pop|housHlds|medInc|medHval|rmsPerHousHld|popPerHousHld|bedRmsPerRm|\n",
            "+-------+-----+------+------+---------+------+--------+------+-------+-------------+-------------+-----------+\n",
            "|-122.23|37.88|  41.0| 880.0|    129.0| 322.0|   126.0|8.3252|  4.526|         6.98|         2.56|       0.15|\n",
            "|-122.22|37.86|  21.0|7099.0|   1106.0|2401.0|  1138.0|8.3014|  3.585|         6.24|         2.11|       0.16|\n",
            "|-122.24|37.85|  52.0|1467.0|    190.0| 496.0|   177.0|7.2574|  3.521|         8.29|          2.8|       0.13|\n",
            "|-122.25|37.85|  52.0|1274.0|    235.0| 558.0|   219.0|5.6431|  3.413|         5.82|         2.55|       0.18|\n",
            "|-122.25|37.85|  52.0|1627.0|    280.0| 565.0|   259.0|3.8462|  3.422|         6.28|         2.18|       0.17|\n",
            "+-------+-----+------+------+---------+------+--------+------+-------+-------------+-------------+-----------+\n",
            "only showing top 5 rows\n",
            "\n"
          ]
        }
      ]
    },
    {
      "cell_type": "markdown",
      "metadata": {
        "id": "PvwNcf1nkvy5"
      },
      "source": [
        "> Podemos ver que, para a primeira linha, existem cerca de 6,98 cômodos por domicílio, os domicílios do bloco são cerca de 2,5 pessoas e a quantidade de dormitórios é bastante baixa com 0,15."
      ]
    },
    {
      "cell_type": "code",
      "metadata": {
        "colab": {
          "base_uri": "https://localhost:8080/"
        },
        "id": "-FZXmHBb2-Ht",
        "outputId": "0169a088-17fe-47cd-a89b-8fc0d14d9b95"
      },
      "source": [
        "# visualizando o tipo de dado das colunas\n",
        "housing_df_copy.printSchema()"
      ],
      "execution_count": 272,
      "outputs": [
        {
          "output_type": "stream",
          "name": "stdout",
          "text": [
            "root\n",
            " |-- long: float (nullable = true)\n",
            " |-- lat: float (nullable = true)\n",
            " |-- medAge: float (nullable = true)\n",
            " |-- totRms: float (nullable = true)\n",
            " |-- totBedRms: float (nullable = true)\n",
            " |-- pop: float (nullable = true)\n",
            " |-- housHlds: float (nullable = true)\n",
            " |-- medInc: float (nullable = true)\n",
            " |-- medHval: double (nullable = true)\n",
            " |-- rmsPerHousHld: double (nullable = true)\n",
            " |-- popPerHousHld: double (nullable = true)\n",
            " |-- bedRmsPerRm: double (nullable = true)\n",
            "\n"
          ]
        }
      ]
    },
    {
      "cell_type": "markdown",
      "metadata": {
        "id": "18MBz1nslN4H"
      },
      "source": [
        "Como não queremos necessariamente padronizar nossos valores alvo, queremos ter certeza de isolá-los em nosso conjunto de dados. Observe também que este é o momento de deixar de fora as variáveis ​​que podemos não querer considerar em nossa análise. Nesse caso, vamos deixar de fora variáveis ​​como `longitude`, `latitude`, `housing_median_age` e `total_rooms`.\n",
        "\n",
        "Neste caso, usaremos o método **select()** e passaremos os nomes das colunas na ordem que for mais apropriada. Nesse caso, a variável de destino `median_house_value` é colocada em primeiro lugar, para que não seja afetada pela padronização."
      ]
    },
    {
      "cell_type": "code",
      "metadata": {
        "id": "t243AsgsaQ3H"
      },
      "source": [
        "# reordenando e selecionando as colunas \n",
        "housing_df_copy = housing_df_copy.select('medHval',\n",
        "                                         'totBedRms', \n",
        "                                         'pop', \n",
        "                                         'housHlds', \n",
        "                                         'medInc',\n",
        "                                         'rmsPerHousHld', \n",
        "                                         'popPerHousHld',\n",
        "                                         'bedRmsPerRm')"
      ],
      "execution_count": 273,
      "outputs": []
    },
    {
      "cell_type": "markdown",
      "metadata": {
        "id": "KtE6ABvvm-if"
      },
      "source": [
        "#### **9.1 Extração de Característica**\n",
        "\n",
        "Agora que reordenamos os dados, estamos prontos para normalizar os dados. Vamos escolher os recursos a serem normalizados."
      ]
    },
    {
      "cell_type": "code",
      "metadata": {
        "id": "xZ-Y-yFwaQ1Q"
      },
      "source": [
        "# selecionando os recursos\n",
        "feature_cols = ['totBedRms', 'pop', 'housHlds', 'medInc', \n",
        "                'rmsPerHousHld', 'popPerHousHld', 'bedRmsPerRm']"
      ],
      "execution_count": 274,
      "outputs": []
    },
    {
      "cell_type": "markdown",
      "metadata": {
        "id": "T8ZrjhFHpBgU"
      },
      "source": [
        "**Usaremos o `VectorAssembler` para colocar recursos em uma coluna de vetor de recursos**."
      ]
    },
    {
      "cell_type": "code",
      "metadata": {
        "id": "DG0y8MtjaQzk"
      },
      "source": [
        "# colocando os recursos em uma coluna de vetor\n",
        "assembler = VectorAssembler(inputCols=feature_cols, \n",
        "                            outputCol='features')"
      ],
      "execution_count": 275,
      "outputs": []
    },
    {
      "cell_type": "code",
      "metadata": {
        "id": "1nRghNxvaQuP"
      },
      "source": [
        "# realizando a transformação no conjunto de dados e instanciando na variável \"assembler_df\"\n",
        "assembled_df = assembler.transform(housing_df_copy)"
      ],
      "execution_count": 276,
      "outputs": []
    },
    {
      "cell_type": "code",
      "metadata": {
        "colab": {
          "base_uri": "https://localhost:8080/"
        },
        "id": "8CKeGNzBvVm9",
        "outputId": "3e9ad901-3fe8-4931-c226-4509889b9f4f"
      },
      "source": [
        "# tamanho dos conjuntos de dados\n",
        "assembled_df.count(), housing_df_copy.count()"
      ],
      "execution_count": 277,
      "outputs": [
        {
          "output_type": "execute_result",
          "data": {
            "text/plain": [
              "(20640, 20640)"
            ]
          },
          "metadata": {},
          "execution_count": 277
        }
      ]
    },
    {
      "cell_type": "code",
      "metadata": {
        "colab": {
          "base_uri": "https://localhost:8080/"
        },
        "id": "QJ51xuWPaQsL",
        "outputId": "1b1a95c7-f9fd-4086-ab25-85f1da4be582"
      },
      "source": [
        "# visualizando a nova variável\n",
        "# usando com argumento a função \"truncate=False\"\n",
        "assembled_df.show(10, truncate=False)"
      ],
      "execution_count": 278,
      "outputs": [
        {
          "output_type": "stream",
          "name": "stdout",
          "text": [
            "+-------+---------+------+--------+------+-------------+-------------+-----------+-------------------------------------------------------+\n",
            "|medHval|totBedRms|pop   |housHlds|medInc|rmsPerHousHld|popPerHousHld|bedRmsPerRm|features                                               |\n",
            "+-------+---------+------+--------+------+-------------+-------------+-----------+-------------------------------------------------------+\n",
            "|4.526  |129.0    |322.0 |126.0   |8.3252|6.98         |2.56         |0.15       |[129.0,322.0,126.0,8.325200080871582,6.98,2.56,0.15]   |\n",
            "|3.585  |1106.0   |2401.0|1138.0  |8.3014|6.24         |2.11         |0.16       |[1106.0,2401.0,1138.0,8.301400184631348,6.24,2.11,0.16]|\n",
            "|3.521  |190.0    |496.0 |177.0   |7.2574|8.29         |2.8          |0.13       |[190.0,496.0,177.0,7.257400035858154,8.29,2.8,0.13]    |\n",
            "|3.413  |235.0    |558.0 |219.0   |5.6431|5.82         |2.55         |0.18       |[235.0,558.0,219.0,5.643099784851074,5.82,2.55,0.18]   |\n",
            "|3.422  |280.0    |565.0 |259.0   |3.8462|6.28         |2.18         |0.17       |[280.0,565.0,259.0,3.8461999893188477,6.28,2.18,0.17]  |\n",
            "|2.697  |213.0    |413.0 |193.0   |4.0368|4.76         |2.14         |0.23       |[213.0,413.0,193.0,4.036799907684326,4.76,2.14,0.23]   |\n",
            "|2.992  |489.0    |1094.0|514.0   |3.6591|4.93         |2.13         |0.19       |[489.0,1094.0,514.0,3.65910005569458,4.93,2.13,0.19]   |\n",
            "|2.414  |687.0    |1157.0|647.0   |3.12  |4.8          |1.79         |0.22       |[687.0,1157.0,647.0,3.119999885559082,4.8,1.79,0.22]   |\n",
            "|2.267  |665.0    |1206.0|595.0   |2.0804|4.29         |2.03         |0.26       |[665.0,1206.0,595.0,2.080399990081787,4.29,2.03,0.26]  |\n",
            "|2.611  |707.0    |1551.0|714.0   |3.6912|4.97         |2.17         |0.2        |[707.0,1551.0,714.0,3.691200017929077,4.97,2.17,0.2]   |\n",
            "+-------+---------+------+--------+------+-------------+-------------+-----------+-------------------------------------------------------+\n",
            "only showing top 10 rows\n",
            "\n"
          ]
        }
      ]
    },
    {
      "cell_type": "code",
      "metadata": {
        "colab": {
          "base_uri": "https://localhost:8080/"
        },
        "id": "7tRJV6UNebmb",
        "outputId": "c43afa6e-3a4e-4a93-fedd-b80fc5d757bd"
      },
      "source": [
        "# visualizando o novo recurso (features) criado\n",
        "# usando com argumento a função \"truncate=False\"\n",
        "assembled_df.select('features').show(10, truncate=False)"
      ],
      "execution_count": 279,
      "outputs": [
        {
          "output_type": "stream",
          "name": "stdout",
          "text": [
            "+-------------------------------------------------------+\n",
            "|features                                               |\n",
            "+-------------------------------------------------------+\n",
            "|[129.0,322.0,126.0,8.325200080871582,6.98,2.56,0.15]   |\n",
            "|[1106.0,2401.0,1138.0,8.301400184631348,6.24,2.11,0.16]|\n",
            "|[190.0,496.0,177.0,7.257400035858154,8.29,2.8,0.13]    |\n",
            "|[235.0,558.0,219.0,5.643099784851074,5.82,2.55,0.18]   |\n",
            "|[280.0,565.0,259.0,3.8461999893188477,6.28,2.18,0.17]  |\n",
            "|[213.0,413.0,193.0,4.036799907684326,4.76,2.14,0.23]   |\n",
            "|[489.0,1094.0,514.0,3.65910005569458,4.93,2.13,0.19]   |\n",
            "|[687.0,1157.0,647.0,3.119999885559082,4.8,1.79,0.22]   |\n",
            "|[665.0,1206.0,595.0,2.080399990081787,4.29,2.03,0.26]  |\n",
            "|[707.0,1551.0,714.0,3.691200017929077,4.97,2.17,0.2]   |\n",
            "+-------------------------------------------------------+\n",
            "only showing top 10 rows\n",
            "\n"
          ]
        }
      ]
    },
    {
      "cell_type": "code",
      "metadata": {
        "colab": {
          "base_uri": "https://localhost:8080/"
        },
        "id": "lb8LiYqq1jfk",
        "outputId": "14527d9c-ed62-412d-abb6-ed569346ed66"
      },
      "source": [
        "# visualizando o tipo de dado das colunas\n",
        "assembled_df.printSchema()"
      ],
      "execution_count": 280,
      "outputs": [
        {
          "output_type": "stream",
          "name": "stdout",
          "text": [
            "root\n",
            " |-- medHval: double (nullable = true)\n",
            " |-- totBedRms: float (nullable = true)\n",
            " |-- pop: float (nullable = true)\n",
            " |-- housHlds: float (nullable = true)\n",
            " |-- medInc: float (nullable = true)\n",
            " |-- rmsPerHousHld: double (nullable = true)\n",
            " |-- popPerHousHld: double (nullable = true)\n",
            " |-- bedRmsPerRm: double (nullable = true)\n",
            " |-- features: vector (nullable = true)\n",
            "\n"
          ]
        }
      ]
    },
    {
      "cell_type": "markdown",
      "metadata": {
        "id": "J54eT93Yqnt-"
      },
      "source": [
        "> Todos os recursos (**features**) foram transformados em um `Dense Vector`."
      ]
    },
    {
      "cell_type": "markdown",
      "metadata": {
        "id": "nmhuqtIerG3j"
      },
      "source": [
        "### **10. Estandardização**\n",
        "Em seguida, podemos finalmente dimensionar os dados usando `StandardScaler`. As colunas de entrada são os recursos, e a coluna de saída com o redimensionado que será incluída no **scaled_df** será chamada de `\"features_scaled\"`."
      ]
    },
    {
      "cell_type": "code",
      "metadata": {
        "id": "KJaj4MiDaQqr",
        "colab": {
          "base_uri": "https://localhost:8080/"
        },
        "outputId": "340b0781-ddc0-4a44-ffa9-30b78769a11b"
      },
      "source": [
        "# iniciando o \"StandardScaler\"\n",
        "std_scaler = StandardScaler(inputCol='features', \n",
        "                            outputCol='features_scaled')\n",
        "\n",
        "# visualizando o objeto criado\n",
        "std_scaler"
      ],
      "execution_count": 281,
      "outputs": [
        {
          "output_type": "execute_result",
          "data": {
            "text/plain": [
              "StandardScaler_001e06c67535"
            ]
          },
          "metadata": {},
          "execution_count": 281
        }
      ]
    },
    {
      "cell_type": "code",
      "metadata": {
        "id": "krnpFa7-Y_um"
      },
      "source": [
        "# aplicando o treinamento e a transformação com o modelo instanciando acima\n",
        "scaled_df = standardScaler.fit(assembled_df).transform(assembled_df)"
      ],
      "execution_count": 282,
      "outputs": []
    },
    {
      "cell_type": "code",
      "metadata": {
        "colab": {
          "base_uri": "https://localhost:8080/"
        },
        "id": "BWt7-VbeWSfQ",
        "outputId": "7fa2cdfe-af66-4264-c037-d5b1df862c80"
      },
      "source": [
        "# visualizando o resultado do escalamento dos dados\n",
        "scaled_df.select('features', 'features_scaled').show(10, \n",
        "                                                     truncate=False)"
      ],
      "execution_count": 283,
      "outputs": [
        {
          "output_type": "stream",
          "name": "stdout",
          "text": [
            "+-------------------------------------------------------+--------------------------------------------------------------------------------------------------------------------------------------+\n",
            "|features                                               |features_scaled                                                                                                                       |\n",
            "+-------------------------------------------------------+--------------------------------------------------------------------------------------------------------------------------------------+\n",
            "|[129.0,322.0,126.0,8.325200080871582,6.98,2.56,0.15]   |[0.30623297630686513,0.2843362208866199,0.3295584480852433,4.38209543579743,2.8211223886115664,0.24648542140099877,2.5828740130262697]|\n",
            "|[1106.0,2401.0,1138.0,8.301400184631348,6.24,2.11,0.16]|[2.6255323394991694,2.1201592122632746,2.9764882057222772,4.36956799913841,2.522034914747303,0.20315790592035446,2.755065613894688]   |\n",
            "|[190.0,496.0,177.0,7.257400035858154,8.29,2.8,0.13]    |[0.451040817816313,0.4379837439744208,0.4629511532626037,3.820042673324032,3.3505880518037077,0.2695934296573424,2.238490811289434]   |\n",
            "|[235.0,558.0,219.0,5.643099784851074,5.82,2.55,0.18]   |[0.557866274667545,0.4927317119712234,0.5728039692910182,2.970331231769803,2.3522825647162344,0.2455225877236511,3.099448815631524]   |\n",
            "|[280.0,565.0,259.0,3.8461999893188477,6.28,2.18,0.17]  |[0.664691731518777,0.4989129341644108,0.6774256988418891,2.024505748166202,2.538201805226452,0.20989774166178804,2.9272572147631064]  |\n",
            "|[213.0,413.0,193.0,4.036799907684326,4.76,2.14,0.23]   |[0.5056404957624983,0.364692109398056,0.5047998450829521,2.124830908428931,1.9238599670187757,0.20604640695239743,3.960406819973614]  |\n",
            "|[489.0,1094.0,514.0,3.65910005569458,4.93,2.13,0.19]   |[1.1608366311167213,0.9660367256210006,1.344389224728691,1.9260228580003875,1.9925692515551605,0.20508357327504975,3.271640416499942] |\n",
            "|[687.0,1157.0,647.0,3.119999885559082,4.8,1.79,0.22]   |[1.6308686412621423,1.021667725359687,1.6922564754853369,1.6422593001231023,1.9400268574979251,0.1723472282452296,3.788215219105196]  |\n",
            "|[665.0,1206.0,595.0,2.080399990081787,4.29,2.03,0.26]  |[1.5786428623570954,1.0649362807119989,1.5562482270692046,1.0950501144251168,1.7338990038887707,0.19545523650157323,4.476981622578868]|\n",
            "|[707.0,1551.0,714.0,3.691200017929077,4.97,2.17,0.2]   |[1.678346622084912,1.3695822316619488,1.8674978724830456,1.9429191603871925,2.00873614203431,0.20893490798444037,3.44383201736836]    |\n",
            "+-------------------------------------------------------+--------------------------------------------------------------------------------------------------------------------------------------+\n",
            "only showing top 10 rows\n",
            "\n"
          ]
        }
      ]
    },
    {
      "cell_type": "markdown",
      "metadata": {
        "id": "gkH0JIVi9MW9"
      },
      "source": [
        "### **11. Construindo um modelo de aprendizado de máquina com Spark ML**"
      ]
    },
    {
      "cell_type": "markdown",
      "metadata": {
        "id": "wxLpP_tO9VXx"
      },
      "source": [
        "Com todo o pré-processamento feito, finalmente é hora de começar a construir nosso modelo de regressão linear.\n",
        "\n",
        "Como sempre, primeiro precisamos dividir os dados em _conjuntos de treinamento e teste_. Felizmente, isso não é problema, pois temos o método `randomSplit()`."
      ]
    },
    {
      "cell_type": "code",
      "metadata": {
        "id": "OWk1iYOaY_sc"
      },
      "source": [
        "# realizando o particionamento dos dados em treino e teste\n",
        "train_data, test_data = scaled_df.randomSplit([0.8, 0.2],   # dividindo os dados em 80% para treino e os demais 20% para teste\n",
        "                                              seed = rnd_seed)"
      ],
      "execution_count": 284,
      "outputs": []
    },
    {
      "cell_type": "markdown",
      "metadata": {
        "id": "GjkSOJrB-gDk"
      },
      "source": [
        "> Passamos uma lista com dois números que representam o tamanho que queremos que seus conjuntos de treinamento e teste tenham e uma semente (que foi declarada o valor no início do estudo), que é necessária por motivos de reprodutibilidade."
      ]
    },
    {
      "cell_type": "markdown",
      "metadata": {
        "id": "LDjhe9o-_Dqi"
      },
      "source": [
        "**Observe:** que o argumento `elasticNetParam` corresponde a `αα` ou a _interceptação vertical_ e que o `regParam` ou o _parâmetro de regularização_ corresponde a `λλ`."
      ]
    },
    {
      "cell_type": "code",
      "metadata": {
        "id": "T2GD8vIaY_o2",
        "colab": {
          "base_uri": "https://localhost:8080/"
        },
        "outputId": "11fffa32-0a2a-4877-d63f-1ee656042447"
      },
      "source": [
        "# visualizando as colunas dos dados de treino\n",
        "train_data.columns"
      ],
      "execution_count": 285,
      "outputs": [
        {
          "output_type": "execute_result",
          "data": {
            "text/plain": [
              "['medHval',\n",
              " 'totBedRms',\n",
              " 'pop',\n",
              " 'housHlds',\n",
              " 'medInc',\n",
              " 'rmsPerHousHld',\n",
              " 'popPerHousHld',\n",
              " 'bedRmsPerRm',\n",
              " 'features',\n",
              " 'features_scaled']"
            ]
          },
          "metadata": {},
          "execution_count": 285
        }
      ]
    },
    {
      "cell_type": "markdown",
      "metadata": {
        "id": "LwWLlmXu_sDP"
      },
      "source": [
        "> Perceba que, a coluna alvo - `medHval`, que representa o valor médio das casas - não se encontra presente nos dados de treino, isso é muito importante para o processo de treinamento do modelo.\n",
        "\n",
        "Pois o modelo tem como principal missão, é predizer a variável alvo dados alguns atributos como entrada e, assim podermos mensurar a capacidade de acurácia e outras métricas de avaliação do modelo."
      ]
    },
    {
      "cell_type": "markdown",
      "metadata": {
        "id": "BSBRN0vxBMlb"
      },
      "source": [
        "**Criando um modelo `ElasticNet`.**"
      ]
    },
    {
      "cell_type": "markdown",
      "metadata": {
        "id": "XCYFXqtcBesF"
      },
      "source": [
        "> O _ElasticNet_ é um modelo de regressão linear treinado com `L1` e `L2` antes como regularizador. Esta combinação permite aprender um modelo esparso onde poucos dos pesos são diferentes de zero como **Lasso**, enquanto ainda mantém as propriedades de regularização de **Ridge**. Controlamos a combinação convexa de L1 e L2 usando o parâmetro `l1_ratio`."
      ]
    },
    {
      "cell_type": "markdown",
      "metadata": {
        "id": "Y-HrXB2FB1gV"
      },
      "source": [
        "_Elastic-net_ é útil quando há vários recursos correlacionados entre si. `Lasso` provavelmente escolherá um desses aleatoriamente, enquanto elástico-net provavelmente escolherá ambos."
      ]
    },
    {
      "cell_type": "markdown",
      "metadata": {
        "id": "eyVvCgfHCG1Q"
      },
      "source": [
        "Uma vantagem prática da troca entre _Lasso_ e _Ridge_ é que permite que a **Elastic-Net** herde um pouco da estabilidade de `Ridge` sob rotação. A função objetivo a minimizar é neste caso:"
      ]
    },
    {
      "cell_type": "markdown",
      "metadata": {
        "id": "DkUs56i4C3bF"
      },
      "source": [
        "\\begin{align}\n",
        "min_w\\frac{1}{2n_{samples}}{\\parallel{X_w - y}\\parallel}^2_2 + \\alpha\\lambda{\\parallel{X_w - y}\\parallel}_1 + \\frac{\\alpha(1-\\lambda)}{2}{\\parallel{w}\\parallel}^2_2\n",
        "\\end{align}"
      ]
    },
    {
      "cell_type": "markdown",
      "metadata": {
        "id": "O5bsjDD-DC-h"
      },
      "source": [
        "- http://scikit-learn.org/stable/modules/linear_model.html#elastic-net"
      ]
    },
    {
      "cell_type": "code",
      "metadata": {
        "id": "w7OKMc2hY_lu"
      },
      "source": [
        "# instanciando o modelo\n",
        "linReg = (LinearRegression(featuresCol = 'features_scaled', labelCol = 'medHval', \n",
        "                            predictionCol = 'predMedHval', maxIter = 10, regParam = 0.3, \n",
        "                            elasticNetParam = 0.8, standardization = False))"
      ],
      "execution_count": 286,
      "outputs": []
    },
    {
      "cell_type": "code",
      "metadata": {
        "id": "jIfKuhsHpBCz"
      },
      "source": [
        "# treinando o modelo com os dados de treinamento\n",
        "linearModel = linReg.fit(train_data)"
      ],
      "execution_count": 287,
      "outputs": []
    },
    {
      "cell_type": "markdown",
      "metadata": {
        "id": "vGuZ4cT3FWCj"
      },
      "source": [
        "### **12. Avaliando o modelo**"
      ]
    },
    {
      "cell_type": "markdown",
      "metadata": {
        "id": "8udST_-bFtTB"
      },
      "source": [
        "Com nosso modelo implementado, podemos gerar previsões para nossos dados de teste: use o método `transform()` para prever os rótulos de nossos _test_data_. \n",
        "\n",
        "Então, podemos usar operações **RDD** para extrair as previsões, bem como os rótulos verdadeiros do _DataFrame_."
      ]
    },
    {
      "cell_type": "markdown",
      "metadata": {
        "id": "S110yshDHHef"
      },
      "source": [
        "#### **12.1. Visualizando os coeficientes do modelo**\n"
      ]
    },
    {
      "cell_type": "code",
      "metadata": {
        "id": "4vH1YjoFpA80",
        "colab": {
          "base_uri": "https://localhost:8080/"
        },
        "outputId": "7d67eaad-1723-4d5d-a9fa-87a7625cac76"
      },
      "source": [
        "# visualizando os coeficientes do modelo\n",
        "linearModel.coefficients"
      ],
      "execution_count": 288,
      "outputs": [
        {
          "output_type": "execute_result",
          "data": {
            "text/plain": [
              "DenseVector([0.0, 0.0, 0.0, 0.5262, 0.0, 0.0, 0.0])"
            ]
          },
          "metadata": {},
          "execution_count": 288
        }
      ]
    },
    {
      "cell_type": "code",
      "metadata": {
        "colab": {
          "base_uri": "https://localhost:8080/"
        },
        "id": "sXiiVH0c89hd",
        "outputId": "e9f4e58b-fa5f-41a1-f749-0e4cf9930c8e"
      },
      "source": [
        "# visualizando o nome dos atributos\n",
        "print(feature_cols)"
      ],
      "execution_count": 290,
      "outputs": [
        {
          "output_type": "stream",
          "name": "stdout",
          "text": [
            "['totBedRms', 'pop', 'housHlds', 'medInc', 'rmsPerHousHld', 'popPerHousHld', 'bedRmsPerRm']\n"
          ]
        }
      ]
    },
    {
      "cell_type": "code",
      "metadata": {
        "colab": {
          "base_uri": "https://localhost:8080/"
        },
        "id": "-D4PMPdh89fj",
        "outputId": "0dc115a1-2d6e-458f-96a3-3b9c7759c4e1"
      },
      "source": [
        "# visualizando o intercepto do modelo\n",
        "linearModel.intercept"
      ],
      "execution_count": 291,
      "outputs": [
        {
          "output_type": "execute_result",
          "data": {
            "text/plain": [
              "1.0013833516596085"
            ]
          },
          "metadata": {},
          "execution_count": 291
        }
      ]
    },
    {
      "cell_type": "code",
      "metadata": {
        "id": "WVfbkeWY89dK"
      },
      "source": [
        "# criando um daframe com o interceptos - features) - e os coeficientes das respectivas features\n",
        "coef_df = pd.DataFrame({\n",
        "    'Feature': ['Intercept'] + feature_cols,\n",
        "    'Co-efficients': np.insert(linearModel.coefficients.toArray(), \n",
        "                               0, linearModel.intercept)\n",
        "})"
      ],
      "execution_count": 304,
      "outputs": []
    },
    {
      "cell_type": "code",
      "metadata": {
        "colab": {
          "base_uri": "https://localhost:8080/",
          "height": 297
        },
        "id": "h8MiUpVd89bU",
        "outputId": "9f3a25a1-db64-4a5f-bdec-42f2673c0f84"
      },
      "source": [
        "# selecionando somente as colunas do dataframe criado - \"Feature\" e \"Co-efficients\" e exibindo-as\n",
        "coef_df = coef_df[['Feature', 'Co-efficients']]\n",
        "coef_df"
      ],
      "execution_count": 306,
      "outputs": [
        {
          "output_type": "execute_result",
          "data": {
            "text/html": [
              "<div>\n",
              "<style scoped>\n",
              "    .dataframe tbody tr th:only-of-type {\n",
              "        vertical-align: middle;\n",
              "    }\n",
              "\n",
              "    .dataframe tbody tr th {\n",
              "        vertical-align: top;\n",
              "    }\n",
              "\n",
              "    .dataframe thead th {\n",
              "        text-align: right;\n",
              "    }\n",
              "</style>\n",
              "<table border=\"1\" class=\"dataframe\">\n",
              "  <thead>\n",
              "    <tr style=\"text-align: right;\">\n",
              "      <th></th>\n",
              "      <th>Feature</th>\n",
              "      <th>Co-efficients</th>\n",
              "    </tr>\n",
              "  </thead>\n",
              "  <tbody>\n",
              "    <tr>\n",
              "      <th>0</th>\n",
              "      <td>Intercept</td>\n",
              "      <td>1.001383</td>\n",
              "    </tr>\n",
              "    <tr>\n",
              "      <th>1</th>\n",
              "      <td>totBedRms</td>\n",
              "      <td>0.000000</td>\n",
              "    </tr>\n",
              "    <tr>\n",
              "      <th>2</th>\n",
              "      <td>pop</td>\n",
              "      <td>0.000000</td>\n",
              "    </tr>\n",
              "    <tr>\n",
              "      <th>3</th>\n",
              "      <td>housHlds</td>\n",
              "      <td>0.000000</td>\n",
              "    </tr>\n",
              "    <tr>\n",
              "      <th>4</th>\n",
              "      <td>medInc</td>\n",
              "      <td>0.526157</td>\n",
              "    </tr>\n",
              "    <tr>\n",
              "      <th>5</th>\n",
              "      <td>rmsPerHousHld</td>\n",
              "      <td>0.000000</td>\n",
              "    </tr>\n",
              "    <tr>\n",
              "      <th>6</th>\n",
              "      <td>popPerHousHld</td>\n",
              "      <td>0.000000</td>\n",
              "    </tr>\n",
              "    <tr>\n",
              "      <th>7</th>\n",
              "      <td>bedRmsPerRm</td>\n",
              "      <td>0.000000</td>\n",
              "    </tr>\n",
              "  </tbody>\n",
              "</table>\n",
              "</div>"
            ],
            "text/plain": [
              "         Feature  Co-efficients\n",
              "0      Intercept       1.001383\n",
              "1      totBedRms       0.000000\n",
              "2            pop       0.000000\n",
              "3       housHlds       0.000000\n",
              "4         medInc       0.526157\n",
              "5  rmsPerHousHld       0.000000\n",
              "6  popPerHousHld       0.000000\n",
              "7    bedRmsPerRm       0.000000"
            ]
          },
          "metadata": {},
          "execution_count": 306
        }
      ]
    },
    {
      "cell_type": "markdown",
      "metadata": {
        "id": "CuURsCEyLx-Y"
      },
      "source": [
        "#### **12.2. Gerando as previsões**"
      ]
    },
    {
      "cell_type": "code",
      "metadata": {
        "id": "9-E9-IYb89XB"
      },
      "source": [
        "# gerando as predições\n",
        "predictions = linearModel.transform(test_data)"
      ],
      "execution_count": 307,
      "outputs": []
    },
    {
      "cell_type": "code",
      "metadata": {
        "id": "7Pj4qnCU89S1"
      },
      "source": [
        "# extraindo as predições e os rótulos corretos \"conhecidos\"\n",
        "predAndLabels = predictions.select('predMedHval', 'medHval')"
      ],
      "execution_count": 308,
      "outputs": []
    },
    {
      "cell_type": "code",
      "metadata": {
        "colab": {
          "base_uri": "https://localhost:8080/"
        },
        "id": "y6Ixxyt689RD",
        "outputId": "1e006d4a-271f-4c1e-ab41-bddc7516bcaf"
      },
      "source": [
        "# visualizando a comparação - rótulos preditos VS rótulos conhecidos\n",
        "predAndLabels.show()"
      ],
      "execution_count": 309,
      "outputs": [
        {
          "output_type": "stream",
          "name": "stdout",
          "text": [
            "+------------------+-------+\n",
            "|       predMedHval|medHval|\n",
            "+------------------+-------+\n",
            "|  1.14982901467337|0.14999|\n",
            "|1.3037582901805782|  0.225|\n",
            "| 1.752972574315186|  0.225|\n",
            "|1.6094289295308724|  0.269|\n",
            "|1.5956645319495768|  0.344|\n",
            "|1.2917940087238426|  0.367|\n",
            "|1.8668547795751218|  0.375|\n",
            "| 1.369423339785637|  0.394|\n",
            "|1.5305533439120043|  0.398|\n",
            "|1.5715143715849273|  0.409|\n",
            "|1.3261913014043998|  0.417|\n",
            "| 1.229923204690587|  0.425|\n",
            "|1.4841640700933143|  0.425|\n",
            "|1.3510338217435218|   0.43|\n",
            "|1.2619110212709588|  0.436|\n",
            "|1.3350814464678744|   0.44|\n",
            "|1.4832778453641755|   0.44|\n",
            "|1.4337313361080328|  0.444|\n",
            "|1.3691187093204966|  0.445|\n",
            "|  1.47521855868216|  0.446|\n",
            "+------------------+-------+\n",
            "only showing top 20 rows\n",
            "\n"
          ]
        }
      ]
    },
    {
      "cell_type": "markdown",
      "metadata": {
        "id": "HFiDB8fiNDDU"
      },
      "source": [
        "#### **12.3. Inspecionando as métricas**"
      ]
    },
    {
      "cell_type": "markdown",
      "metadata": {
        "id": "EggZfRS3Nj6s"
      },
      "source": [
        "Olhar para os valores previstos é uma coisa, mas outra e melhor coisa é olhar algumas métricas para ter uma ideia melhor de quão bom realmente é o seu modelo."
      ]
    },
    {
      "cell_type": "markdown",
      "metadata": {
        "id": "ub5wRgJPNroQ"
      },
      "source": [
        "Use o atributo:\n",
        "    \n",
        "    LinearRegressionModel.summary.\n"
      ]
    },
    {
      "cell_type": "markdown",
      "metadata": {
        "id": "uW4aX2mRN3gG"
      },
      "source": [
        "Em seguida, também podemos usar o atributo summary para obter o `rootMeanSquaredError` e o `r2`."
      ]
    },
    {
      "cell_type": "code",
      "metadata": {
        "colab": {
          "base_uri": "https://localhost:8080/"
        },
        "id": "YDZPk7v089OC",
        "outputId": "243ba33a-a42b-4266-d7b7-bfb778714317"
      },
      "source": [
        "# visualizando o RMSE - a raiz do erro médio quadrático\n",
        "print(f'RMSE: {linearModel.summary.rootMeanSquaredError}')"
      ],
      "execution_count": 310,
      "outputs": [
        {
          "output_type": "stream",
          "name": "stdout",
          "text": [
            "RMSE: 0.8819852045268861\n"
          ]
        }
      ]
    },
    {
      "cell_type": "markdown",
      "metadata": {
        "id": "1-JRMnNuQHNC"
      },
      "source": [
        "> **O que é a raiz do erro médio quadrático (RMSE)?**\n",
        "\n",
        "O `RMSE` (_raiz do erro médio quadrático_) é a raiz do _erro quadrático médio_ - `MSE`, que é a média do quadrado dos erros. \n",
        "\n",
        "Quanto maior for o número, maior será o erro. Erro neste caso significa a diferença entre os valores observados y1, y2, y3,... e os previstos pred (y1), pred (y2), pred (y3),... \n",
        "\n",
        "Nós elevamos ao quadrado cada diferença (pred (yn) - yn) ) ** 2 para que os valores negativos e positivos não se cancelem."
      ]
    },
    {
      "cell_type": "code",
      "metadata": {
        "colab": {
          "base_uri": "https://localhost:8080/"
        },
        "id": "VNhmwRkt89ML",
        "outputId": "b34cb059-a85f-4c67-81ba-ff82de3fa4af"
      },
      "source": [
        "# visualizando o MAE - erro médio absoluto\n",
        "print(f'MAE: {linearModel.summary.meanAbsoluteError}')"
      ],
      "execution_count": 311,
      "outputs": [
        {
          "output_type": "stream",
          "name": "stdout",
          "text": [
            "MAE: 0.6782895319917991\n"
          ]
        }
      ]
    },
    {
      "cell_type": "markdown",
      "metadata": {
        "id": "ZbWnEwIDRfRi"
      },
      "source": [
        "> **O que é erro médio absoluto (MAE)?**\n",
        "\n",
        "O `MAE` (erro médio absoluto) é subtração do valor previsto do valor real.\n",
        "\n",
        "    Erro de previsão → Valor real - valor previsto\n",
        "\n",
        "Este erro de previsão é obtido para cada registro, após o qual convertemos todos os erros em positivos e, em seguida somando-os e extraindo a sua média."
      ]
    },
    {
      "cell_type": "code",
      "metadata": {
        "colab": {
          "base_uri": "https://localhost:8080/"
        },
        "id": "2YHUuOQk89Kb",
        "outputId": "33d8fb85-3de3-4a46-e980-3101e3ce3dc5"
      },
      "source": [
        "# visualizando o R2 - coeficiente de determinação\n",
        "print(f'R2: {linearModel.summary.r2}')"
      ],
      "execution_count": 312,
      "outputs": [
        {
          "output_type": "stream",
          "name": "stdout",
          "text": [
            "R2: 0.4180854895364573\n"
          ]
        }
      ]
    },
    {
      "cell_type": "markdown",
      "metadata": {
        "id": "RLnGbr0YS6sj"
      },
      "source": [
        "> **O que é o coeficiente de determinação (R2)?**\n",
        "\n",
        "A pontuação de `R2` é uma métrica muito importante usada para avaliar o desempenho de um modelo de aprendizado de máquina baseado em regressão. É pronunciado como R ao quadrado e também é conhecido como coeficiente de determinação. \n",
        "\n",
        "Ele funciona medindo a quantidade de variação nas previsões explicadas pelo conjunto de dados. Simplificando, é a diferença entre as amostras no conjunto de dados e as previsões feitas pelo modelo."
      ]
    },
    {
      "cell_type": "markdown",
      "metadata": {
        "id": "nvQSZWVlT4oY"
      },
      "source": [
        "**Resumidamente podemos dizer...**\n",
        "\n",
        "- O `RMSE` mede quanto erro existe entre dois conjuntos de dados comparando um valor previsto e um valor observado ou conhecido. Quanto menor for um valor RMSE, mais próximos os valores preditos e observados estão.\n",
        "\n",
        "- O `R2` (\"R ao quadrado\") ou o coeficiente de determinação é uma medida que mostra quão próximos os dados estão da linha de regressão ajustada. Esta pontuação estará sempre entre 0 e 100% (ou 0 a 1 neste caso), onde 0% indica que o modelo não explica nada da variabilidade dos dados de resposta em torno de sua média, e 100% indica o contrário: explica toda a variabilidade. Isso significa que, em geral, quanto maior o R ​​quadrado, melhor o modelo se ajusta aos nossos dados."
      ]
    },
    {
      "cell_type": "markdown",
      "metadata": {
        "id": "67fMTN4iUTCz"
      },
      "source": [
        "**Usando o `RegressionEvaluator` do pacote _pyspark.ml_**"
      ]
    },
    {
      "cell_type": "code",
      "metadata": {
        "colab": {
          "base_uri": "https://localhost:8080/"
        },
        "id": "w5qljIFv89Il",
        "outputId": "58f96f4e-9cb4-4144-f613-67995b34f78f"
      },
      "source": [
        "# instanciando o avaliador do RMSE\n",
        "evaluator = RegressionEvaluator(predictionCol = 'predMedHval', \n",
        "                                labelCol = 'medHval', \n",
        "                                metricName = 'rmse')\n",
        "\n",
        "# visualizando o resultado\n",
        "print(f'RMSE: {(evaluator.evaluate(predAndLabels))}')"
      ],
      "execution_count": 322,
      "outputs": [
        {
          "output_type": "stream",
          "name": "stdout",
          "text": [
            "RMSE: 0.8677342923034236\n"
          ]
        }
      ]
    },
    {
      "cell_type": "code",
      "metadata": {
        "colab": {
          "base_uri": "https://localhost:8080/"
        },
        "id": "E2AswkNT89AU",
        "outputId": "60852876-e9ab-4b80-d4b9-2c3dd861bed1"
      },
      "source": [
        "# instanciando o avaliador do MAE\n",
        "evaluator = RegressionEvaluator(predictionCol = 'predMedHval', \n",
        "                                labelCol = 'medHval', \n",
        "                                metricName = 'mae')\n",
        "\n",
        "# visualizando o resultado\n",
        "print(f'MAE: {(evaluator.evaluate(predAndLabels))}')"
      ],
      "execution_count": 324,
      "outputs": [
        {
          "output_type": "stream",
          "name": "stdout",
          "text": [
            "MAE: 0.6736097745764633\n"
          ]
        }
      ]
    },
    {
      "cell_type": "code",
      "metadata": {
        "colab": {
          "base_uri": "https://localhost:8080/"
        },
        "id": "wjgdirBC88-h",
        "outputId": "705e0554-21f4-4801-dc27-46afea46ebbf"
      },
      "source": [
        "# instanciando o avaliador do R2\n",
        "evaluator = RegressionEvaluator(predictionCol = 'predMedHval', \n",
        "                                labelCol = 'medHval', \n",
        "                                metricName = 'r2')\n",
        "\n",
        "# visualizando o resultado\n",
        "print(f'R2: {(evaluator.evaluate(predAndLabels))}')"
      ],
      "execution_count": 325,
      "outputs": [
        {
          "output_type": "stream",
          "name": "stdout",
          "text": [
            "R2: 0.42517112885139363\n"
          ]
        }
      ]
    },
    {
      "cell_type": "markdown",
      "metadata": {
        "id": "ROEksANJXMcl"
      },
      "source": [
        "**Usando o `RegressionMetrics` do pacote _pyspark.mllib_**"
      ]
    },
    {
      "cell_type": "code",
      "metadata": {
        "id": "L6GxJUA0888n"
      },
      "source": [
        "# mllib é antigo, então os métodos estão disponíveis em rdd\n",
        "metrics = RegressionMetrics(predAndLabels.rdd)"
      ],
      "execution_count": 327,
      "outputs": []
    },
    {
      "cell_type": "code",
      "metadata": {
        "colab": {
          "base_uri": "https://localhost:8080/"
        },
        "id": "K5pVKZUO886F",
        "outputId": "b208317f-c4fa-48e6-9cfd-b95b8e648c07"
      },
      "source": [
        "# visualizando o resultado das métricas\n",
        "print(f'RMSE: {(metrics.rootMeanSquaredError)}')\n",
        "print(f'MAE: {(metrics.meanAbsoluteError)}')\n",
        "print(f'R2: {(metrics.r2)}')"
      ],
      "execution_count": 328,
      "outputs": [
        {
          "output_type": "stream",
          "name": "stdout",
          "text": [
            "RMSE: 0.8677342923034236\n",
            "MAE: 0.6736097745764633\n",
            "R2: 0.42517112885139363\n"
          ]
        }
      ]
    },
    {
      "cell_type": "markdown",
      "metadata": {
        "id": "s-0CQtyFYcKP"
      },
      "source": [
        "Definitivamente, há algumas melhorias necessárias em nosso modelo! \n",
        "\n",
        "Se quisermos continuar com este modelo, podemos modificar os parâmetros que passamos para o modelo, e as variáveis ​​que incluímos em seu DataFrame original.\n",
        "\n",
        "Por enquanto é isso!!!"
      ]
    },
    {
      "cell_type": "code",
      "metadata": {
        "id": "3lXtVTbt883C"
      },
      "source": [
        "# encerrando a sessão spark\n",
        "spark.stop()"
      ],
      "execution_count": 329,
      "outputs": []
    },
    {
      "cell_type": "markdown",
      "metadata": {
        "id": "d8l2uMc_ZhJA"
      },
      "source": [
        "Até mais!!  ; )"
      ]
    },
    {
      "cell_type": "code",
      "metadata": {
        "id": "w4V9nZdJ88uU"
      },
      "source": [
        ""
      ],
      "execution_count": null,
      "outputs": []
    },
    {
      "cell_type": "code",
      "metadata": {
        "id": "dQ2ULvrZ88r6"
      },
      "source": [
        ""
      ],
      "execution_count": null,
      "outputs": []
    }
  ]
}